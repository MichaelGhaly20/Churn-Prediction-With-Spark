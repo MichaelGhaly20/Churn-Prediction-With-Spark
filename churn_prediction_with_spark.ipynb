{
  "cells": [
    {
      "cell_type": "markdown",
      "id": "9386a7ca",
      "metadata": {
        "papermill": {
          "duration": 0.078766,
          "end_time": "2021-11-14T14:12:38.683860",
          "exception": false,
          "start_time": "2021-11-14T14:12:38.605094",
          "status": "completed"
        },
        "tags": [],
        "id": "9386a7ca"
      },
      "source": [
        "# Customer Churn"
      ]
    },
    {
      "cell_type": "markdown",
      "id": "aafec866",
      "metadata": {
        "papermill": {
          "duration": 0.074666,
          "end_time": "2021-11-14T14:12:38.835198",
          "exception": false,
          "start_time": "2021-11-14T14:12:38.760532",
          "status": "completed"
        },
        "tags": [],
        "id": "aafec866"
      },
      "source": [
        "Churn estimation is of great importance for companies. According to McKinsey's research, fast-growing companies are expected to have low churn rates in order to maintain their profitability in a stable manner."
      ]
    },
    {
      "cell_type": "markdown",
      "id": "285602c1",
      "metadata": {
        "papermill": {
          "duration": 0.070677,
          "end_time": "2021-11-14T14:12:39.124585",
          "exception": false,
          "start_time": "2021-11-14T14:12:39.053908",
          "status": "completed"
        },
        "tags": [],
        "id": "285602c1"
      },
      "source": [
        "# Dataset"
      ]
    },
    {
      "cell_type": "markdown",
      "id": "56b44fad",
      "metadata": {
        "papermill": {
          "duration": 0.069864,
          "end_time": "2021-11-14T14:12:39.264443",
          "exception": false,
          "start_time": "2021-11-14T14:12:39.194579",
          "status": "completed"
        },
        "tags": [],
        "id": "56b44fad"
      },
      "source": [
        "Surname: corresponds to the record (row) number and has no effect on the output.\n",
        "\n",
        "CreditScore: contains random values and has no effect on customer leaving the bank.\n",
        "\n",
        "Geography: a customer’s location can affect their decision to leave the bank.\n",
        "\n",
        "Gender: it’s interesting to explore whether gender plays a role in a customer leaving the bank.\n",
        "\n",
        "Age: this is certainly relevant, since older customers are less likely to leave their bank than younger ones.\n",
        "\n",
        "Tenure: refers to the number of years that the customer has been a client of the bank. Normally, older clients are more loyal and less likely to leave a bank.\n",
        "\n",
        "NumOfProducts: refers to the number of products that a customer has purchased through the bank.\n",
        "\n",
        "HasCrCard: denotes whether or not a customer has a credit card. This column is also relevant, since people with a credit card are less likely to leave the bank.\n",
        "\n",
        "IsActiveMember: active customers are less likely to leave the bank.\n",
        "\n",
        "EstimatedSalary: as with balance, people with lower salaries are more likely to leave the bank compared to those with higher salaries.\n",
        "\n",
        "Exited: (Dependent Variable): whether or not the customer left the bank.\n",
        "\n",
        "Balance: also a very good indicator of customer churn, as people with a higher balance in their accounts are less likely to leave the bank compared to those with lower balances."
      ]
    },
    {
      "cell_type": "markdown",
      "id": "eb41e317",
      "metadata": {
        "papermill": {
          "duration": 0.076875,
          "end_time": "2021-11-14T14:12:40.063782",
          "exception": false,
          "start_time": "2021-11-14T14:12:39.986907",
          "status": "completed"
        },
        "tags": [],
        "id": "eb41e317"
      },
      "source": [
        "# Installation of Required Libraries for Spark"
      ]
    },
    {
      "cell_type": "code",
      "execution_count": null,
      "id": "17e04056",
      "metadata": {
        "execution": {
          "iopub.execute_input": "2021-11-14T14:12:40.226456Z",
          "iopub.status.busy": "2021-11-14T14:12:40.225667Z",
          "iopub.status.idle": "2021-11-14T14:15:26.043526Z",
          "shell.execute_reply": "2021-11-14T14:15:26.042717Z",
          "shell.execute_reply.started": "2021-11-14T13:25:24.620684Z"
        },
        "papermill": {
          "duration": 165.903062,
          "end_time": "2021-11-14T14:15:26.043711",
          "exception": false,
          "start_time": "2021-11-14T14:12:40.140649",
          "status": "completed"
        },
        "tags": [],
        "id": "17e04056"
      },
      "outputs": [],
      "source": [
        "# installation required for Spark\n",
        "#!pip install sparkmagic\n",
        "#!pip install pyspark"
      ]
    },
    {
      "cell_type": "markdown",
      "id": "c001e02a",
      "metadata": {
        "papermill": {
          "duration": 0.228425,
          "end_time": "2021-11-14T14:15:26.508084",
          "exception": false,
          "start_time": "2021-11-14T14:15:26.279659",
          "status": "completed"
        },
        "tags": [],
        "id": "c001e02a"
      },
      "source": [
        "# Importing Required Libraries"
      ]
    },
    {
      "cell_type": "code",
      "execution_count": 2,
      "id": "c9b06629",
      "metadata": {
        "_cell_guid": "b1076dfc-b9ad-4769-8c92-a6c4dae69d19",
        "_uuid": "8f2839f25d086af736a60e9eeb907d3b93b6e0e5",
        "execution": {
          "iopub.execute_input": "2021-11-14T14:15:26.975803Z",
          "iopub.status.busy": "2021-11-14T14:15:26.974721Z",
          "iopub.status.idle": "2021-11-14T14:15:28.145349Z",
          "shell.execute_reply": "2021-11-14T14:15:28.144665Z",
          "shell.execute_reply.started": "2021-11-14T13:28:12.019423Z"
        },
        "papermill": {
          "duration": 1.40952,
          "end_time": "2021-11-14T14:15:28.145533",
          "exception": false,
          "start_time": "2021-11-14T14:15:26.736013",
          "status": "completed"
        },
        "tags": [],
        "id": "c9b06629"
      },
      "outputs": [],
      "source": [
        "# libraries\n",
        "import warnings\n",
        "# import findspark\n",
        "import pandas as pd\n",
        "import seaborn as sns\n",
        "from pyspark.ml.classification import GBTClassifier, LogisticRegression\n",
        "from pyspark.ml.evaluation import BinaryClassificationEvaluator\n",
        "from pyspark.ml.evaluation import MulticlassClassificationEvaluator\n",
        "from pyspark.ml.feature import StringIndexer, VectorAssembler, OneHotEncoder, StandardScaler\n",
        "from pyspark.ml.tuning import ParamGridBuilder, CrossValidator\n",
        "from pyspark.sql import SparkSession\n",
        "from pyspark.ml.feature import Bucketizer\n",
        "\n",
        "warnings.filterwarnings(\"ignore\", category=DeprecationWarning)\n",
        "warnings.filterwarnings(\"ignore\", category=FutureWarning)\n",
        "\n",
        "pd.set_option('display.max_columns', None)\n",
        "pd.set_option('display.float_format', lambda x: '%.2f' % x)"
      ]
    },
    {
      "cell_type": "markdown",
      "id": "4dedc770",
      "metadata": {
        "papermill": {
          "duration": 0.226149,
          "end_time": "2021-11-14T14:15:28.600087",
          "exception": false,
          "start_time": "2021-11-14T14:15:28.373938",
          "status": "completed"
        },
        "tags": [],
        "id": "4dedc770"
      },
      "source": [
        "# Creating A Spark Session"
      ]
    },
    {
      "cell_type": "code",
      "execution_count": 3,
      "id": "396e37b8",
      "metadata": {
        "execution": {
          "iopub.execute_input": "2021-11-14T14:15:29.063933Z",
          "iopub.status.busy": "2021-11-14T14:15:29.063015Z",
          "iopub.status.idle": "2021-11-14T14:15:35.475057Z",
          "shell.execute_reply": "2021-11-14T14:15:35.474028Z",
          "shell.execute_reply.started": "2021-11-14T13:28:13.279851Z"
        },
        "papermill": {
          "duration": 6.649347,
          "end_time": "2021-11-14T14:15:35.475315",
          "exception": false,
          "start_time": "2021-11-14T14:15:28.825968",
          "status": "completed"
        },
        "tags": [],
        "id": "396e37b8"
      },
      "outputs": [],
      "source": [
        "spark = SparkSession.builder.master(\"local[*]\").getOrCreate()"
      ]
    },
    {
      "cell_type": "markdown",
      "id": "66e877bf",
      "metadata": {
        "papermill": {
          "duration": 0.228804,
          "end_time": "2021-11-14T14:15:35.947352",
          "exception": false,
          "start_time": "2021-11-14T14:15:35.718548",
          "status": "completed"
        },
        "tags": [],
        "id": "66e877bf"
      },
      "source": [
        "# Exploratory Data Analysis"
      ]
    },
    {
      "cell_type": "code",
      "execution_count": 16,
      "id": "6991fc94",
      "metadata": {
        "execution": {
          "iopub.execute_input": "2021-11-14T14:15:36.499800Z",
          "iopub.status.busy": "2021-11-14T14:15:36.498689Z",
          "iopub.status.idle": "2021-11-14T14:15:43.497321Z",
          "shell.execute_reply": "2021-11-14T14:15:43.498249Z",
          "shell.execute_reply.started": "2021-11-14T13:28:19.744475Z"
        },
        "papermill": {
          "duration": 7.266877,
          "end_time": "2021-11-14T14:15:43.498557",
          "exception": false,
          "start_time": "2021-11-14T14:15:36.231680",
          "status": "completed"
        },
        "tags": [],
        "colab": {
          "base_uri": "https://localhost:8080/"
        },
        "id": "6991fc94",
        "outputId": "026421e6-4615-467b-b5e6-fd825f839e87"
      },
      "outputs": [
        {
          "output_type": "stream",
          "name": "stdout",
          "text": [
            "+---------+----------+--------+-----------+---------+------+---+------+---------+-------------+---------+--------------+---------------+------+\n",
            "|RowNumber|CustomerId| Surname|CreditScore|Geography|Gender|Age|Tenure|  Balance|NumOfProducts|HasCrCard|IsActiveMember|EstimatedSalary|Exited|\n",
            "+---------+----------+--------+-----------+---------+------+---+------+---------+-------------+---------+--------------+---------------+------+\n",
            "|        1|  15634602|Hargrave|        619|   France|Female| 42|     2|      0.0|            1|        1|             1|      101348.88|     1|\n",
            "|        2|  15647311|    Hill|        608|    Spain|Female| 41|     1| 83807.86|            1|        0|             1|      112542.58|     0|\n",
            "|        3|  15619304|    Onio|        502|   France|Female| 42|     8| 159660.8|            3|        1|             0|      113931.57|     1|\n",
            "|        4|  15701354|    Boni|        699|   France|Female| 39|     1|      0.0|            2|        0|             0|       93826.63|     0|\n",
            "|        5|  15737888|Mitchell|        850|    Spain|Female| 43|     2|125510.82|            1|        1|             1|        79084.1|     0|\n",
            "|        6|  15574012|     Chu|        645|    Spain|  Male| 44|     8|113755.78|            2|        1|             0|      149756.71|     1|\n",
            "|        7|  15592531|Bartlett|        822|   France|  Male| 50|     7|      0.0|            2|        1|             1|        10062.8|     0|\n",
            "|        8|  15656148|  Obinna|        376|  Germany|Female| 29|     4|115046.74|            4|        1|             0|      119346.88|     1|\n",
            "|        9|  15792365|      He|        501|   France|  Male| 44|     4|142051.07|            2|        0|             1|        74940.5|     0|\n",
            "|       10|  15592389|      H?|        684|   France|  Male| 27|     2|134603.88|            1|        1|             1|       71725.73|     0|\n",
            "+---------+----------+--------+-----------+---------+------+---+------+---------+-------------+---------+--------------+---------------+------+\n",
            "only showing top 10 rows\n",
            "\n"
          ]
        }
      ],
      "source": [
        "spark_df = spark.read.csv('/content/churn.csv', inferSchema=True, header=True)\n",
        "spark_df.show(10)"
      ]
    },
    {
      "cell_type": "code",
      "execution_count": 17,
      "id": "c276c5ae",
      "metadata": {
        "execution": {
          "iopub.execute_input": "2021-11-14T14:15:43.989359Z",
          "iopub.status.busy": "2021-11-14T14:15:43.988599Z",
          "iopub.status.idle": "2021-11-14T14:15:44.809184Z",
          "shell.execute_reply": "2021-11-14T14:15:44.808191Z",
          "shell.execute_reply.started": "2021-11-14T13:28:26.831969Z"
        },
        "papermill": {
          "duration": 1.056375,
          "end_time": "2021-11-14T14:15:44.809444",
          "exception": false,
          "start_time": "2021-11-14T14:15:43.753069",
          "status": "completed"
        },
        "tags": [],
        "colab": {
          "base_uri": "https://localhost:8080/"
        },
        "id": "c276c5ae",
        "outputId": "39105b92-6770-4f8d-9c06-fcdbddd61d47"
      },
      "outputs": [
        {
          "output_type": "stream",
          "name": "stdout",
          "text": [
            "Shape:  (10000, 14)\n"
          ]
        }
      ],
      "source": [
        "print(\"Shape: \", (spark_df.count(), len(spark_df.columns)))"
      ]
    },
    {
      "cell_type": "code",
      "execution_count": 18,
      "id": "2b4510b6",
      "metadata": {
        "execution": {
          "iopub.execute_input": "2021-11-14T14:15:45.299099Z",
          "iopub.status.busy": "2021-11-14T14:15:45.298409Z",
          "iopub.status.idle": "2021-11-14T14:15:45.304289Z",
          "shell.execute_reply": "2021-11-14T14:15:45.304814Z",
          "shell.execute_reply.started": "2021-11-14T13:28:27.667656Z"
        },
        "papermill": {
          "duration": 0.250964,
          "end_time": "2021-11-14T14:15:45.305019",
          "exception": false,
          "start_time": "2021-11-14T14:15:45.054055",
          "status": "completed"
        },
        "tags": [],
        "colab": {
          "base_uri": "https://localhost:8080/"
        },
        "id": "2b4510b6",
        "outputId": "8620becf-de7d-48fb-baca-d6db62070d72"
      },
      "outputs": [
        {
          "output_type": "stream",
          "name": "stdout",
          "text": [
            "root\n",
            " |-- RowNumber: integer (nullable = true)\n",
            " |-- CustomerId: integer (nullable = true)\n",
            " |-- Surname: string (nullable = true)\n",
            " |-- CreditScore: integer (nullable = true)\n",
            " |-- Geography: string (nullable = true)\n",
            " |-- Gender: string (nullable = true)\n",
            " |-- Age: integer (nullable = true)\n",
            " |-- Tenure: integer (nullable = true)\n",
            " |-- Balance: double (nullable = true)\n",
            " |-- NumOfProducts: integer (nullable = true)\n",
            " |-- HasCrCard: integer (nullable = true)\n",
            " |-- IsActiveMember: integer (nullable = true)\n",
            " |-- EstimatedSalary: double (nullable = true)\n",
            " |-- Exited: integer (nullable = true)\n",
            "\n"
          ]
        }
      ],
      "source": [
        "spark_df.printSchema()"
      ]
    },
    {
      "cell_type": "code",
      "execution_count": 19,
      "id": "41084149",
      "metadata": {
        "execution": {
          "iopub.execute_input": "2021-11-14T14:15:45.771993Z",
          "iopub.status.busy": "2021-11-14T14:15:45.771237Z",
          "iopub.status.idle": "2021-11-14T14:15:46.044155Z",
          "shell.execute_reply": "2021-11-14T14:15:46.043124Z",
          "shell.execute_reply.started": "2021-11-14T13:28:27.680604Z"
        },
        "papermill": {
          "duration": 0.510986,
          "end_time": "2021-11-14T14:15:46.044405",
          "exception": false,
          "start_time": "2021-11-14T14:15:45.533419",
          "status": "completed"
        },
        "tags": [],
        "colab": {
          "base_uri": "https://localhost:8080/"
        },
        "id": "41084149",
        "outputId": "6e20f0e0-8a52-4c5a-e347-372abfd3912e"
      },
      "outputs": [
        {
          "output_type": "stream",
          "name": "stdout",
          "text": [
            "+---------+----------+--------+-----------+---------+------+---+------+---------+-------------+---------+--------------+---------------+------+\n",
            "|rownumber|customerid| surname|creditscore|geography|gender|age|tenure|  balance|numofproducts|hascrcard|isactivemember|estimatedsalary|exited|\n",
            "+---------+----------+--------+-----------+---------+------+---+------+---------+-------------+---------+--------------+---------------+------+\n",
            "|        1|  15634602|Hargrave|        619|   France|Female| 42|     2|      0.0|            1|        1|             1|      101348.88|     1|\n",
            "|        2|  15647311|    Hill|        608|    Spain|Female| 41|     1| 83807.86|            1|        0|             1|      112542.58|     0|\n",
            "|        3|  15619304|    Onio|        502|   France|Female| 42|     8| 159660.8|            3|        1|             0|      113931.57|     1|\n",
            "|        4|  15701354|    Boni|        699|   France|Female| 39|     1|      0.0|            2|        0|             0|       93826.63|     0|\n",
            "|        5|  15737888|Mitchell|        850|    Spain|Female| 43|     2|125510.82|            1|        1|             1|        79084.1|     0|\n",
            "+---------+----------+--------+-----------+---------+------+---+------+---------+-------------+---------+--------------+---------------+------+\n",
            "only showing top 5 rows\n",
            "\n"
          ]
        }
      ],
      "source": [
        "spark_df = spark_df.toDF(*[c.lower() for c in spark_df.columns])\n",
        "spark_df.show(5)"
      ]
    },
    {
      "cell_type": "code",
      "execution_count": 20,
      "id": "b0f72a42",
      "metadata": {
        "execution": {
          "iopub.execute_input": "2021-11-14T14:15:46.532864Z",
          "iopub.status.busy": "2021-11-14T14:15:46.531769Z",
          "iopub.status.idle": "2021-11-14T14:15:49.430906Z",
          "shell.execute_reply": "2021-11-14T14:15:49.430024Z",
          "shell.execute_reply.started": "2021-11-14T13:28:27.941543Z"
        },
        "papermill": {
          "duration": 3.139296,
          "end_time": "2021-11-14T14:15:49.431142",
          "exception": false,
          "start_time": "2021-11-14T14:15:46.291846",
          "status": "completed"
        },
        "tags": [],
        "colab": {
          "base_uri": "https://localhost:8080/"
        },
        "id": "b0f72a42",
        "outputId": "ac5c3316-4022-4983-89cb-a7172aec24fb"
      },
      "outputs": [
        {
          "output_type": "stream",
          "name": "stdout",
          "text": [
            "+-------+------------------+-----------------+-------+-----------------+---------+------+------------------+------------------+-----------------+------------------+-------------------+-------------------+-----------------+-------------------+\n",
            "|summary|         rownumber|       customerid|surname|      creditscore|geography|gender|               age|            tenure|          balance|     numofproducts|          hascrcard|     isactivemember|  estimatedsalary|             exited|\n",
            "+-------+------------------+-----------------+-------+-----------------+---------+------+------------------+------------------+-----------------+------------------+-------------------+-------------------+-----------------+-------------------+\n",
            "|  count|             10000|            10000|  10000|            10000|    10000| 10000|             10000|             10000|            10000|             10000|              10000|              10000|            10000|              10000|\n",
            "|   mean|            5000.5|  1.56909405694E7|   null|         650.5288|     null|  null|           38.9218|            5.0128|76485.88928799961|            1.5302|             0.7055|             0.5151|100090.2398809998|             0.2037|\n",
            "| stddev|2886.8956799071675|71936.18612274907|   null|96.65329873613035|     null|  null|10.487806451704587|2.8921743770496837|62397.40520238599|0.5816543579989917|0.45584046447513327|0.49979692845891815|57510.49281769821|0.40276858399486065|\n",
            "|    min|                 1|         15565701|  Abazu|              350|   France|Female|                18|                 0|              0.0|                 1|                  0|                  0|            11.58|                  0|\n",
            "|    max|             10000|         15815690| Zuyeva|              850|    Spain|  Male|                92|                10|        250898.09|                 4|                  1|                  1|        199992.48|                  1|\n",
            "+-------+------------------+-----------------+-------+-----------------+---------+------+------------------+------------------+-----------------+------------------+-------------------+-------------------+-----------------+-------------------+\n",
            "\n"
          ]
        }
      ],
      "source": [
        "spark_df.describe().show()"
      ]
    },
    {
      "cell_type": "code",
      "execution_count": 21,
      "id": "7772b1a1",
      "metadata": {
        "execution": {
          "iopub.execute_input": "2021-11-14T14:15:49.945497Z",
          "iopub.status.busy": "2021-11-14T14:15:49.944721Z",
          "iopub.status.idle": "2021-11-14T14:15:50.500452Z",
          "shell.execute_reply": "2021-11-14T14:15:50.499861Z",
          "shell.execute_reply.started": "2021-11-14T13:28:30.456229Z"
        },
        "papermill": {
          "duration": 0.79881,
          "end_time": "2021-11-14T14:15:50.500636",
          "exception": false,
          "start_time": "2021-11-14T14:15:49.701826",
          "status": "completed"
        },
        "tags": [],
        "colab": {
          "base_uri": "https://localhost:8080/"
        },
        "id": "7772b1a1",
        "outputId": "d7530dbf-0c48-4c21-8cfe-ee164e8715ed"
      },
      "outputs": [
        {
          "output_type": "stream",
          "name": "stdout",
          "text": [
            "+-------+------------------+-------------------+\n",
            "|summary|               age|             exited|\n",
            "+-------+------------------+-------------------+\n",
            "|  count|             10000|              10000|\n",
            "|   mean|           38.9218|             0.2037|\n",
            "| stddev|10.487806451704587|0.40276858399486065|\n",
            "|    min|                18|                  0|\n",
            "|    max|                92|                  1|\n",
            "+-------+------------------+-------------------+\n",
            "\n"
          ]
        }
      ],
      "source": [
        "spark_df.describe([\"age\", \"exited\"]).show()"
      ]
    },
    {
      "cell_type": "code",
      "execution_count": 22,
      "id": "48383ea4",
      "metadata": {
        "execution": {
          "iopub.execute_input": "2021-11-14T14:15:50.978074Z",
          "iopub.status.busy": "2021-11-14T14:15:50.976960Z",
          "iopub.status.idle": "2021-11-14T14:15:51.561752Z",
          "shell.execute_reply": "2021-11-14T14:15:51.563324Z",
          "shell.execute_reply.started": "2021-11-14T13:28:30.980727Z"
        },
        "papermill": {
          "duration": 0.827766,
          "end_time": "2021-11-14T14:15:51.563826",
          "exception": false,
          "start_time": "2021-11-14T14:15:50.736060",
          "status": "completed"
        },
        "tags": [],
        "colab": {
          "base_uri": "https://localhost:8080/"
        },
        "id": "48383ea4",
        "outputId": "fc67032a-cedd-4853-eade-201e9f9bdf71"
      },
      "outputs": [
        {
          "output_type": "stream",
          "name": "stdout",
          "text": [
            "+------+-----+\n",
            "|exited|count|\n",
            "+------+-----+\n",
            "|     1| 2037|\n",
            "|     0| 7963|\n",
            "+------+-----+\n",
            "\n"
          ]
        }
      ],
      "source": [
        "spark_df.groupby(\"exited\").count().show()"
      ]
    },
    {
      "cell_type": "code",
      "execution_count": 23,
      "id": "6027c776",
      "metadata": {
        "execution": {
          "iopub.execute_input": "2021-11-14T14:15:52.175949Z",
          "iopub.status.busy": "2021-11-14T14:15:52.174980Z",
          "iopub.status.idle": "2021-11-14T14:15:52.601936Z",
          "shell.execute_reply": "2021-11-14T14:15:52.600805Z",
          "shell.execute_reply.started": "2021-11-14T13:28:31.593447Z"
        },
        "papermill": {
          "duration": 0.674565,
          "end_time": "2021-11-14T14:15:52.602226",
          "exception": false,
          "start_time": "2021-11-14T14:15:51.927661",
          "status": "completed"
        },
        "tags": [],
        "colab": {
          "base_uri": "https://localhost:8080/"
        },
        "id": "6027c776",
        "outputId": "9a9966a4-f31e-4947-a962-babe02a497d2"
      },
      "outputs": [
        {
          "output_type": "stream",
          "name": "stdout",
          "text": [
            "+------+\n",
            "|exited|\n",
            "+------+\n",
            "|     1|\n",
            "|     0|\n",
            "+------+\n",
            "\n"
          ]
        }
      ],
      "source": [
        "spark_df.select(\"exited\").distinct().show()"
      ]
    },
    {
      "cell_type": "code",
      "source": [
        "spark_df.dtypes"
      ],
      "metadata": {
        "colab": {
          "base_uri": "https://localhost:8080/"
        },
        "id": "_MVGZ2jYYQrZ",
        "outputId": "95a8de48-d69c-4121-889d-e12ce6a5eb7b"
      },
      "id": "_MVGZ2jYYQrZ",
      "execution_count": 24,
      "outputs": [
        {
          "output_type": "execute_result",
          "data": {
            "text/plain": [
              "[('rownumber', 'int'),\n",
              " ('customerid', 'int'),\n",
              " ('surname', 'string'),\n",
              " ('creditscore', 'int'),\n",
              " ('geography', 'string'),\n",
              " ('gender', 'string'),\n",
              " ('age', 'int'),\n",
              " ('tenure', 'int'),\n",
              " ('balance', 'double'),\n",
              " ('numofproducts', 'int'),\n",
              " ('hascrcard', 'int'),\n",
              " ('isactivemember', 'int'),\n",
              " ('estimatedsalary', 'double'),\n",
              " ('exited', 'int')]"
            ]
          },
          "metadata": {},
          "execution_count": 24
        }
      ]
    },
    {
      "cell_type": "code",
      "execution_count": 25,
      "id": "9c2b3c8f",
      "metadata": {
        "execution": {
          "iopub.execute_input": "2021-11-14T14:15:53.905954Z",
          "iopub.status.busy": "2021-11-14T14:15:53.904950Z",
          "iopub.status.idle": "2021-11-14T14:15:54.859140Z",
          "shell.execute_reply": "2021-11-14T14:15:54.860069Z",
          "shell.execute_reply.started": "2021-11-14T13:28:32.328956Z"
        },
        "papermill": {
          "duration": 1.19146,
          "end_time": "2021-11-14T14:15:54.860394",
          "exception": false,
          "start_time": "2021-11-14T14:15:53.668934",
          "status": "completed"
        },
        "tags": [],
        "colab": {
          "base_uri": "https://localhost:8080/"
        },
        "id": "9c2b3c8f",
        "outputId": "aff8ff0d-dd1b-4b55-cb70-5337786f63ea"
      },
      "outputs": [
        {
          "output_type": "stream",
          "name": "stdout",
          "text": [
            "+-------+------------------+-----------------+-----------------+------------------+------------------+-----------------+------------------+-------------------+-------------------+-----------------+-------------------+\n",
            "|summary|         rownumber|       customerid|      creditscore|               age|            tenure|          balance|     numofproducts|          hascrcard|     isactivemember|  estimatedsalary|             exited|\n",
            "+-------+------------------+-----------------+-----------------+------------------+------------------+-----------------+------------------+-------------------+-------------------+-----------------+-------------------+\n",
            "|  count|             10000|            10000|            10000|             10000|             10000|            10000|             10000|              10000|              10000|            10000|              10000|\n",
            "|   mean|            5000.5|  1.56909405694E7|         650.5288|           38.9218|            5.0128|76485.88928799961|            1.5302|             0.7055|             0.5151|100090.2398809998|             0.2037|\n",
            "| stddev|2886.8956799071675|71936.18612274907|96.65329873613035|10.487806451704587|2.8921743770496837|62397.40520238599|0.5816543579989917|0.45584046447513327|0.49979692845891815|57510.49281769821|0.40276858399486065|\n",
            "|    min|                 1|         15565701|              350|                18|                 0|              0.0|                 1|                  0|                  0|            11.58|                  0|\n",
            "|    max|             10000|         15815690|              850|                92|                10|        250898.09|                 4|                  1|                  1|        199992.48|                  1|\n",
            "+-------+------------------+-----------------+-----------------+------------------+------------------+-----------------+------------------+-------------------+-------------------+-----------------+-------------------+\n",
            "\n"
          ]
        }
      ],
      "source": [
        "num_cols = [col[0] for col in spark_df.dtypes if col[1] != 'string']\n",
        "spark_df.select(num_cols).describe().show()"
      ]
    },
    {
      "cell_type": "code",
      "execution_count": 26,
      "id": "19f2d94d",
      "metadata": {
        "execution": {
          "iopub.execute_input": "2021-11-14T14:15:55.425490Z",
          "iopub.status.busy": "2021-11-14T14:15:55.424720Z",
          "iopub.status.idle": "2021-11-14T14:15:55.426341Z",
          "shell.execute_reply": "2021-11-14T14:15:55.427001Z",
          "shell.execute_reply.started": "2021-11-14T13:28:33.209210Z"
        },
        "papermill": {
          "duration": 0.274165,
          "end_time": "2021-11-14T14:15:55.427201",
          "exception": false,
          "start_time": "2021-11-14T14:15:55.153036",
          "status": "completed"
        },
        "tags": [],
        "id": "19f2d94d"
      },
      "outputs": [],
      "source": [
        "cat_cols = [col[0] for col in spark_df.dtypes if col[1] == 'string']"
      ]
    },
    {
      "cell_type": "code",
      "execution_count": 27,
      "id": "3bfc0f00",
      "metadata": {
        "execution": {
          "iopub.execute_input": "2021-11-14T14:15:55.889337Z",
          "iopub.status.busy": "2021-11-14T14:15:55.888613Z",
          "iopub.status.idle": "2021-11-14T14:15:59.266715Z",
          "shell.execute_reply": "2021-11-14T14:15:59.265120Z",
          "shell.execute_reply.started": "2021-11-14T13:28:33.217537Z"
        },
        "papermill": {
          "duration": 3.611598,
          "end_time": "2021-11-14T14:15:59.267084",
          "exception": false,
          "start_time": "2021-11-14T14:15:55.655486",
          "status": "completed"
        },
        "tags": [],
        "colab": {
          "base_uri": "https://localhost:8080/"
        },
        "id": "3bfc0f00",
        "outputId": "efce8008-8c3f-4c09-a1da-19d2f7a5e21b"
      },
      "outputs": [
        {
          "output_type": "stream",
          "name": "stdout",
          "text": [
            "+------+-----------------+\n",
            "|exited|   avg(rownumber)|\n",
            "+------+-----------------+\n",
            "|     1|4905.917525773196|\n",
            "|     0|5024.694964209469|\n",
            "+------+-----------------+\n",
            "\n",
            "+------+--------------------+\n",
            "|exited|     avg(customerid)|\n",
            "+------+--------------------+\n",
            "|     1|1.5690051964653904E7|\n",
            "|     0|1.5691167881702876E7|\n",
            "+------+--------------------+\n",
            "\n",
            "+------+-----------------+\n",
            "|exited| avg(creditscore)|\n",
            "+------+-----------------+\n",
            "|     1|645.3514972999509|\n",
            "|     0|651.8531960316463|\n",
            "+------+-----------------+\n",
            "\n",
            "+------+-----------------+\n",
            "|exited|         avg(age)|\n",
            "+------+-----------------+\n",
            "|     1| 44.8379970544919|\n",
            "|     0|37.40838879819164|\n",
            "+------+-----------------+\n",
            "\n",
            "+------+-----------------+\n",
            "|exited|      avg(tenure)|\n",
            "+------+-----------------+\n",
            "|     1|4.932744231713304|\n",
            "|     0|5.033278914981791|\n",
            "+------+-----------------+\n",
            "\n",
            "+------+-----------------+\n",
            "|exited|     avg(balance)|\n",
            "+------+-----------------+\n",
            "|     1|91108.53933726063|\n",
            "|     0|72745.29677885193|\n",
            "+------+-----------------+\n",
            "\n",
            "+------+------------------+\n",
            "|exited|avg(numofproducts)|\n",
            "+------+------------------+\n",
            "|     1|1.4752086401570939|\n",
            "|     0|1.5442672359663443|\n",
            "+------+------------------+\n",
            "\n",
            "+------+------------------+\n",
            "|exited|    avg(hascrcard)|\n",
            "+------+------------------+\n",
            "|     1|0.6990672557682867|\n",
            "|     0|0.7071455481602411|\n",
            "+------+------------------+\n",
            "\n",
            "+------+-------------------+\n",
            "|exited|avg(isactivemember)|\n",
            "+------+-------------------+\n",
            "|     1|0.36082474226804123|\n",
            "|     0| 0.5545648624890117|\n",
            "+------+-------------------+\n",
            "\n",
            "+------+--------------------+\n",
            "|exited|avg(estimatedsalary)|\n",
            "+------+--------------------+\n",
            "|     1|   101465.6775306824|\n",
            "|     0|   99738.39177194514|\n",
            "+------+--------------------+\n",
            "\n",
            "+------+-----------+\n",
            "|exited|avg(exited)|\n",
            "+------+-----------+\n",
            "|     1|        1.0|\n",
            "|     0|        0.0|\n",
            "+------+-----------+\n",
            "\n"
          ]
        }
      ],
      "source": [
        "for col in [col.lower() for col in num_cols]:\n",
        "    spark_df.groupby(\"exited\").agg({col: \"mean\"}).show()"
      ]
    },
    {
      "cell_type": "markdown",
      "id": "75cce408",
      "metadata": {
        "papermill": {
          "duration": 0.232867,
          "end_time": "2021-11-14T14:15:59.744416",
          "exception": false,
          "start_time": "2021-11-14T14:15:59.511549",
          "status": "completed"
        },
        "tags": [],
        "id": "75cce408"
      },
      "source": [
        "# Data Preprocessing & Feature Engineering"
      ]
    },
    {
      "cell_type": "code",
      "execution_count": 30,
      "id": "e14e7ca6",
      "metadata": {
        "execution": {
          "iopub.execute_input": "2021-11-14T14:16:00.225673Z",
          "iopub.status.busy": "2021-11-14T14:16:00.224653Z",
          "iopub.status.idle": "2021-11-14T14:16:00.902722Z",
          "shell.execute_reply": "2021-11-14T14:16:00.904010Z",
          "shell.execute_reply.started": "2021-11-14T13:28:36.346853Z"
        },
        "papermill": {
          "duration": 0.923612,
          "end_time": "2021-11-14T14:16:00.904550",
          "exception": false,
          "start_time": "2021-11-14T14:15:59.980938",
          "status": "completed"
        },
        "tags": [],
        "colab": {
          "base_uri": "https://localhost:8080/",
          "height": 488
        },
        "id": "e14e7ca6",
        "outputId": "8900032b-4f82-4365-9e12-323da41470bf"
      },
      "outputs": [
        {
          "output_type": "execute_result",
          "data": {
            "text/html": [
              "\n",
              "  <div id=\"df-df22f3de-5cec-49fa-b998-5f8d655a405a\">\n",
              "    <div class=\"colab-df-container\">\n",
              "      <div>\n",
              "<style scoped>\n",
              "    .dataframe tbody tr th:only-of-type {\n",
              "        vertical-align: middle;\n",
              "    }\n",
              "\n",
              "    .dataframe tbody tr th {\n",
              "        vertical-align: top;\n",
              "    }\n",
              "\n",
              "    .dataframe thead th {\n",
              "        text-align: right;\n",
              "    }\n",
              "</style>\n",
              "<table border=\"1\" class=\"dataframe\">\n",
              "  <thead>\n",
              "    <tr style=\"text-align: right;\">\n",
              "      <th></th>\n",
              "      <th>0</th>\n",
              "    </tr>\n",
              "  </thead>\n",
              "  <tbody>\n",
              "    <tr>\n",
              "      <th>rownumber</th>\n",
              "      <td>0</td>\n",
              "    </tr>\n",
              "    <tr>\n",
              "      <th>customerid</th>\n",
              "      <td>0</td>\n",
              "    </tr>\n",
              "    <tr>\n",
              "      <th>surname</th>\n",
              "      <td>0</td>\n",
              "    </tr>\n",
              "    <tr>\n",
              "      <th>creditscore</th>\n",
              "      <td>0</td>\n",
              "    </tr>\n",
              "    <tr>\n",
              "      <th>geography</th>\n",
              "      <td>0</td>\n",
              "    </tr>\n",
              "    <tr>\n",
              "      <th>gender</th>\n",
              "      <td>0</td>\n",
              "    </tr>\n",
              "    <tr>\n",
              "      <th>age</th>\n",
              "      <td>0</td>\n",
              "    </tr>\n",
              "    <tr>\n",
              "      <th>tenure</th>\n",
              "      <td>0</td>\n",
              "    </tr>\n",
              "    <tr>\n",
              "      <th>balance</th>\n",
              "      <td>0</td>\n",
              "    </tr>\n",
              "    <tr>\n",
              "      <th>numofproducts</th>\n",
              "      <td>0</td>\n",
              "    </tr>\n",
              "    <tr>\n",
              "      <th>hascrcard</th>\n",
              "      <td>0</td>\n",
              "    </tr>\n",
              "    <tr>\n",
              "      <th>isactivemember</th>\n",
              "      <td>0</td>\n",
              "    </tr>\n",
              "    <tr>\n",
              "      <th>estimatedsalary</th>\n",
              "      <td>0</td>\n",
              "    </tr>\n",
              "    <tr>\n",
              "      <th>exited</th>\n",
              "      <td>0</td>\n",
              "    </tr>\n",
              "  </tbody>\n",
              "</table>\n",
              "</div>\n",
              "      <button class=\"colab-df-convert\" onclick=\"convertToInteractive('df-df22f3de-5cec-49fa-b998-5f8d655a405a')\"\n",
              "              title=\"Convert this dataframe to an interactive table.\"\n",
              "              style=\"display:none;\">\n",
              "        \n",
              "  <svg xmlns=\"http://www.w3.org/2000/svg\" height=\"24px\"viewBox=\"0 0 24 24\"\n",
              "       width=\"24px\">\n",
              "    <path d=\"M0 0h24v24H0V0z\" fill=\"none\"/>\n",
              "    <path d=\"M18.56 5.44l.94 2.06.94-2.06 2.06-.94-2.06-.94-.94-2.06-.94 2.06-2.06.94zm-11 1L8.5 8.5l.94-2.06 2.06-.94-2.06-.94L8.5 2.5l-.94 2.06-2.06.94zm10 10l.94 2.06.94-2.06 2.06-.94-2.06-.94-.94-2.06-.94 2.06-2.06.94z\"/><path d=\"M17.41 7.96l-1.37-1.37c-.4-.4-.92-.59-1.43-.59-.52 0-1.04.2-1.43.59L10.3 9.45l-7.72 7.72c-.78.78-.78 2.05 0 2.83L4 21.41c.39.39.9.59 1.41.59.51 0 1.02-.2 1.41-.59l7.78-7.78 2.81-2.81c.8-.78.8-2.07 0-2.86zM5.41 20L4 18.59l7.72-7.72 1.47 1.35L5.41 20z\"/>\n",
              "  </svg>\n",
              "      </button>\n",
              "      \n",
              "  <style>\n",
              "    .colab-df-container {\n",
              "      display:flex;\n",
              "      flex-wrap:wrap;\n",
              "      gap: 12px;\n",
              "    }\n",
              "\n",
              "    .colab-df-convert {\n",
              "      background-color: #E8F0FE;\n",
              "      border: none;\n",
              "      border-radius: 50%;\n",
              "      cursor: pointer;\n",
              "      display: none;\n",
              "      fill: #1967D2;\n",
              "      height: 32px;\n",
              "      padding: 0 0 0 0;\n",
              "      width: 32px;\n",
              "    }\n",
              "\n",
              "    .colab-df-convert:hover {\n",
              "      background-color: #E2EBFA;\n",
              "      box-shadow: 0px 1px 2px rgba(60, 64, 67, 0.3), 0px 1px 3px 1px rgba(60, 64, 67, 0.15);\n",
              "      fill: #174EA6;\n",
              "    }\n",
              "\n",
              "    [theme=dark] .colab-df-convert {\n",
              "      background-color: #3B4455;\n",
              "      fill: #D2E3FC;\n",
              "    }\n",
              "\n",
              "    [theme=dark] .colab-df-convert:hover {\n",
              "      background-color: #434B5C;\n",
              "      box-shadow: 0px 1px 3px 1px rgba(0, 0, 0, 0.15);\n",
              "      filter: drop-shadow(0px 1px 2px rgba(0, 0, 0, 0.3));\n",
              "      fill: #FFFFFF;\n",
              "    }\n",
              "  </style>\n",
              "\n",
              "      <script>\n",
              "        const buttonEl =\n",
              "          document.querySelector('#df-df22f3de-5cec-49fa-b998-5f8d655a405a button.colab-df-convert');\n",
              "        buttonEl.style.display =\n",
              "          google.colab.kernel.accessAllowed ? 'block' : 'none';\n",
              "\n",
              "        async function convertToInteractive(key) {\n",
              "          const element = document.querySelector('#df-df22f3de-5cec-49fa-b998-5f8d655a405a');\n",
              "          const dataTable =\n",
              "            await google.colab.kernel.invokeFunction('convertToInteractive',\n",
              "                                                     [key], {});\n",
              "          if (!dataTable) return;\n",
              "\n",
              "          const docLinkHtml = 'Like what you see? Visit the ' +\n",
              "            '<a target=\"_blank\" href=https://colab.research.google.com/notebooks/data_table.ipynb>data table notebook</a>'\n",
              "            + ' to learn more about interactive tables.';\n",
              "          element.innerHTML = '';\n",
              "          dataTable['output_type'] = 'display_data';\n",
              "          await google.colab.output.renderOutput(dataTable, element);\n",
              "          const docLink = document.createElement('div');\n",
              "          docLink.innerHTML = docLinkHtml;\n",
              "          element.appendChild(docLink);\n",
              "        }\n",
              "      </script>\n",
              "    </div>\n",
              "  </div>\n",
              "  "
            ],
            "text/plain": [
              "                 0\n",
              "rownumber        0\n",
              "customerid       0\n",
              "surname          0\n",
              "creditscore      0\n",
              "geography        0\n",
              "gender           0\n",
              "age              0\n",
              "tenure           0\n",
              "balance          0\n",
              "numofproducts    0\n",
              "hascrcard        0\n",
              "isactivemember   0\n",
              "estimatedsalary  0\n",
              "exited           0"
            ]
          },
          "metadata": {},
          "execution_count": 30
        }
      ],
      "source": [
        "from pyspark.sql.functions import when, count, col\n",
        "# checking null values\n",
        "spark_df.select([count(when(col(c).isNull(),c)).alias(c) for c in spark_df.columns]).toPandas().T"
      ]
    },
    {
      "cell_type": "code",
      "source": [
        "spark_df.show(5)"
      ],
      "metadata": {
        "colab": {
          "base_uri": "https://localhost:8080/"
        },
        "id": "tTLm0MapZ0RC",
        "outputId": "f89c71ef-8105-4041-d4dc-5c21bc075fb3"
      },
      "id": "tTLm0MapZ0RC",
      "execution_count": 31,
      "outputs": [
        {
          "output_type": "stream",
          "name": "stdout",
          "text": [
            "+---------+----------+--------+-----------+---------+------+---+------+---------+-------------+---------+--------------+---------------+------+\n",
            "|rownumber|customerid| surname|creditscore|geography|gender|age|tenure|  balance|numofproducts|hascrcard|isactivemember|estimatedsalary|exited|\n",
            "+---------+----------+--------+-----------+---------+------+---+------+---------+-------------+---------+--------------+---------------+------+\n",
            "|        1|  15634602|Hargrave|        619|   France|Female| 42|     2|      0.0|            1|        1|             1|      101348.88|     1|\n",
            "|        2|  15647311|    Hill|        608|    Spain|Female| 41|     1| 83807.86|            1|        0|             1|      112542.58|     0|\n",
            "|        3|  15619304|    Onio|        502|   France|Female| 42|     8| 159660.8|            3|        1|             0|      113931.57|     1|\n",
            "|        4|  15701354|    Boni|        699|   France|Female| 39|     1|      0.0|            2|        0|             0|       93826.63|     0|\n",
            "|        5|  15737888|Mitchell|        850|    Spain|Female| 43|     2|125510.82|            1|        1|             1|        79084.1|     0|\n",
            "+---------+----------+--------+-----------+---------+------+---+------+---------+-------------+---------+--------------+---------------+------+\n",
            "only showing top 5 rows\n",
            "\n"
          ]
        }
      ]
    },
    {
      "cell_type": "code",
      "execution_count": 32,
      "id": "c7814014",
      "metadata": {
        "execution": {
          "iopub.execute_input": "2021-11-14T14:16:01.992955Z",
          "iopub.status.busy": "2021-11-14T14:16:01.991731Z",
          "iopub.status.idle": "2021-11-14T14:16:02.003743Z",
          "shell.execute_reply": "2021-11-14T14:16:02.002980Z",
          "shell.execute_reply.started": "2021-11-14T13:28:37.184073Z"
        },
        "papermill": {
          "duration": 0.254501,
          "end_time": "2021-11-14T14:16:02.003919",
          "exception": false,
          "start_time": "2021-11-14T14:16:01.749418",
          "status": "completed"
        },
        "tags": [],
        "id": "c7814014"
      },
      "outputs": [],
      "source": [
        "spark_df = spark_df.drop('rownumber', \"customerid\", \"surname\")"
      ]
    },
    {
      "cell_type": "markdown",
      "id": "cfc9cdf2",
      "metadata": {
        "papermill": {
          "duration": 0.237975,
          "end_time": "2021-11-14T14:16:02.480156",
          "exception": false,
          "start_time": "2021-11-14T14:16:02.242181",
          "status": "completed"
        },
        "tags": [],
        "id": "cfc9cdf2"
      },
      "source": [
        "**Feature Interaction**"
      ]
    },
    {
      "cell_type": "code",
      "execution_count": 33,
      "id": "0df896ae",
      "metadata": {
        "execution": {
          "iopub.execute_input": "2021-11-14T14:16:02.962127Z",
          "iopub.status.busy": "2021-11-14T14:16:02.960940Z",
          "iopub.status.idle": "2021-11-14T14:16:03.150741Z",
          "shell.execute_reply": "2021-11-14T14:16:03.151691Z",
          "shell.execute_reply.started": "2021-11-14T13:28:37.198970Z"
        },
        "papermill": {
          "duration": 0.434647,
          "end_time": "2021-11-14T14:16:03.151991",
          "exception": false,
          "start_time": "2021-11-14T14:16:02.717344",
          "status": "completed"
        },
        "tags": [],
        "colab": {
          "base_uri": "https://localhost:8080/"
        },
        "id": "0df896ae",
        "outputId": "deaa8281-fa2d-4617-ae4a-64af6f7ac265"
      },
      "outputs": [
        {
          "output_type": "stream",
          "name": "stdout",
          "text": [
            "+-----------+---------+------+---+------+---------+-------------+---------+--------------+---------------+------+--------------------+------------------+------------------+\n",
            "|creditscore|geography|gender|age|tenure|  balance|numofproducts|hascrcard|isactivemember|estimatedsalary|exited|  creditscore_salary|creditscore_tenure|    balance_salary|\n",
            "+-----------+---------+------+---+------+---------+-------------+---------+--------------+---------------+------+--------------------+------------------+------------------+\n",
            "|        619|   France|Female| 42|     2|      0.0|            1|        1|             1|      101348.88|     1|0.006107615594765329|              1238|               0.0|\n",
            "|        608|    Spain|Female| 41|     1| 83807.86|            1|        0|             1|      112542.58|     0|0.005402399696186101|               608|0.7446769036217226|\n",
            "|        502|   France|Female| 42|     8| 159660.8|            3|        1|             0|      113931.57|     1|0.004406153623618106|              4016|1.4013745268322026|\n",
            "|        699|   France|Female| 39|     1|      0.0|            2|        0|             0|       93826.63|     0|0.007449910542454738|               699|               0.0|\n",
            "|        850|    Spain|Female| 43|     2|125510.82|            1|        1|             1|        79084.1|     0|0.010748051757559357|              1700|1.5870550464631954|\n",
            "+-----------+---------+------+---+------+---------+-------------+---------+--------------+---------------+------+--------------------+------------------+------------------+\n",
            "only showing top 5 rows\n",
            "\n"
          ]
        }
      ],
      "source": [
        "spark_df = spark_df.withColumn('creditscore_salary', spark_df.creditscore / spark_df.estimatedsalary)\n",
        "spark_df = spark_df.withColumn('creditscore_tenure', spark_df.creditscore * spark_df.tenure)\n",
        "spark_df = spark_df.withColumn('balance_salary', spark_df.balance / spark_df.estimatedsalary)\n",
        "spark_df.show(5)"
      ]
    },
    {
      "cell_type": "markdown",
      "id": "d25acdd7",
      "metadata": {
        "papermill": {
          "duration": 0.236842,
          "end_time": "2021-11-14T14:16:03.687631",
          "exception": false,
          "start_time": "2021-11-14T14:16:03.450789",
          "status": "completed"
        },
        "tags": [],
        "id": "d25acdd7"
      },
      "source": [
        "**Bucketization / Bining / Num to Cat**"
      ]
    },
    {
      "cell_type": "code",
      "execution_count": 34,
      "id": "73759ed4",
      "metadata": {
        "execution": {
          "iopub.execute_input": "2021-11-14T14:16:04.166592Z",
          "iopub.status.busy": "2021-11-14T14:16:04.165790Z",
          "iopub.status.idle": "2021-11-14T14:16:05.218424Z",
          "shell.execute_reply": "2021-11-14T14:16:05.219149Z",
          "shell.execute_reply.started": "2021-11-14T13:28:37.433752Z"
        },
        "papermill": {
          "duration": 1.298373,
          "end_time": "2021-11-14T14:16:05.219348",
          "exception": false,
          "start_time": "2021-11-14T14:16:03.920975",
          "status": "completed"
        },
        "tags": [],
        "colab": {
          "base_uri": "https://localhost:8080/"
        },
        "id": "73759ed4",
        "outputId": "c580b881-4cf0-466f-a8a7-28c7c2946f44"
      },
      "outputs": [
        {
          "output_type": "stream",
          "name": "stdout",
          "text": [
            "+-------+-----+\n",
            "|summary|  age|\n",
            "+-------+-----+\n",
            "|  count|10000|\n",
            "|    min|   18|\n",
            "|    25%|   32|\n",
            "|    50%|   37|\n",
            "|    75%|   44|\n",
            "|    max|   92|\n",
            "+-------+-----+\n",
            "\n"
          ]
        }
      ],
      "source": [
        "# age variable\n",
        "spark_df.select('age').describe().toPandas().transpose()\n",
        "spark_df.select(\"age\").summary(\"count\", \"min\", \"25%\", \"50%\",\"75%\", \"max\").show()\n",
        "bucketizer = Bucketizer(splits=[0, 35, 55, 75, 95], inputCol=\"age\", outputCol=\"age_cat\")\n",
        "spark_df = bucketizer.setHandleInvalid(\"keep\").transform(spark_df)\n",
        "spark_df = spark_df.withColumn('age_cat', spark_df.age_cat + 1)"
      ]
    },
    {
      "cell_type": "code",
      "source": [
        "spark_df.select('age','age_cat').show(10)"
      ],
      "metadata": {
        "colab": {
          "base_uri": "https://localhost:8080/"
        },
        "id": "QrwUXL_lbe26",
        "outputId": "2ec28199-a13e-42d6-a5b0-5bfb921428bf"
      },
      "id": "QrwUXL_lbe26",
      "execution_count": 37,
      "outputs": [
        {
          "output_type": "stream",
          "name": "stdout",
          "text": [
            "+---+-------+\n",
            "|age|age_cat|\n",
            "+---+-------+\n",
            "| 42|    2.0|\n",
            "| 41|    2.0|\n",
            "| 42|    2.0|\n",
            "| 39|    2.0|\n",
            "| 43|    2.0|\n",
            "| 44|    2.0|\n",
            "| 50|    2.0|\n",
            "| 29|    1.0|\n",
            "| 44|    2.0|\n",
            "| 27|    1.0|\n",
            "+---+-------+\n",
            "only showing top 10 rows\n",
            "\n"
          ]
        }
      ]
    },
    {
      "cell_type": "markdown",
      "id": "d4bdf8ff",
      "metadata": {
        "papermill": {
          "duration": 0.232574,
          "end_time": "2021-11-14T14:16:05.686024",
          "exception": false,
          "start_time": "2021-11-14T14:16:05.453450",
          "status": "completed"
        },
        "tags": [],
        "id": "d4bdf8ff"
      },
      "source": [
        "**Converting float values to integer**"
      ]
    },
    {
      "cell_type": "code",
      "execution_count": 38,
      "id": "da2e6bf2",
      "metadata": {
        "execution": {
          "iopub.execute_input": "2021-11-14T14:16:06.183442Z",
          "iopub.status.busy": "2021-11-14T14:16:06.182290Z",
          "iopub.status.idle": "2021-11-14T14:16:06.202790Z",
          "shell.execute_reply": "2021-11-14T14:16:06.201782Z",
          "shell.execute_reply.started": "2021-11-14T13:28:38.339891Z"
        },
        "papermill": {
          "duration": 0.282092,
          "end_time": "2021-11-14T14:16:06.203021",
          "exception": false,
          "start_time": "2021-11-14T14:16:05.920929",
          "status": "completed"
        },
        "tags": [],
        "id": "da2e6bf2"
      },
      "outputs": [],
      "source": [
        "spark_df = spark_df.withColumn(\"age_cat\", spark_df[\"age_cat\"].cast(\"integer\"))"
      ]
    },
    {
      "cell_type": "code",
      "source": [
        "spark_df.show(5)"
      ],
      "metadata": {
        "colab": {
          "base_uri": "https://localhost:8080/"
        },
        "id": "97h2flP0cNcM",
        "outputId": "6d979e97-fe1b-4ebc-cee3-f0911b3dc9c4"
      },
      "id": "97h2flP0cNcM",
      "execution_count": 39,
      "outputs": [
        {
          "output_type": "stream",
          "name": "stdout",
          "text": [
            "+-----------+---------+------+---+------+---------+-------------+---------+--------------+---------------+------+--------------------+------------------+------------------+-------+\n",
            "|creditscore|geography|gender|age|tenure|  balance|numofproducts|hascrcard|isactivemember|estimatedsalary|exited|  creditscore_salary|creditscore_tenure|    balance_salary|age_cat|\n",
            "+-----------+---------+------+---+------+---------+-------------+---------+--------------+---------------+------+--------------------+------------------+------------------+-------+\n",
            "|        619|   France|Female| 42|     2|      0.0|            1|        1|             1|      101348.88|     1|0.006107615594765329|              1238|               0.0|      2|\n",
            "|        608|    Spain|Female| 41|     1| 83807.86|            1|        0|             1|      112542.58|     0|0.005402399696186101|               608|0.7446769036217226|      2|\n",
            "|        502|   France|Female| 42|     8| 159660.8|            3|        1|             0|      113931.57|     1|0.004406153623618106|              4016|1.4013745268322026|      2|\n",
            "|        699|   France|Female| 39|     1|      0.0|            2|        0|             0|       93826.63|     0|0.007449910542454738|               699|               0.0|      2|\n",
            "|        850|    Spain|Female| 43|     2|125510.82|            1|        1|             1|        79084.1|     0|0.010748051757559357|              1700|1.5870550464631954|      2|\n",
            "+-----------+---------+------+---+------+---------+-------------+---------+--------------+---------------+------+--------------------+------------------+------------------+-------+\n",
            "only showing top 5 rows\n",
            "\n"
          ]
        }
      ]
    },
    {
      "cell_type": "code",
      "execution_count": 40,
      "id": "17f652cd",
      "metadata": {
        "execution": {
          "iopub.execute_input": "2021-11-14T14:16:06.696276Z",
          "iopub.status.busy": "2021-11-14T14:16:06.694899Z",
          "iopub.status.idle": "2021-11-14T14:16:07.011457Z",
          "shell.execute_reply": "2021-11-14T14:16:07.012569Z",
          "shell.execute_reply.started": "2021-11-14T13:28:38.362577Z"
        },
        "papermill": {
          "duration": 0.559922,
          "end_time": "2021-11-14T14:16:07.012922",
          "exception": false,
          "start_time": "2021-11-14T14:16:06.453000",
          "status": "completed"
        },
        "tags": [],
        "colab": {
          "base_uri": "https://localhost:8080/"
        },
        "id": "17f652cd",
        "outputId": "aa506220-2ec1-4351-8dab-95fa912be922"
      },
      "outputs": [
        {
          "output_type": "stream",
          "name": "stdout",
          "text": [
            "+-----------+---------+------+---+------+---------+-------------+---------+--------------+---------------+------+--------------------+------------------+------------------+-------+-----------------+\n",
            "|creditscore|geography|gender|age|tenure|  balance|numofproducts|hascrcard|isactivemember|estimatedsalary|exited|  creditscore_salary|creditscore_tenure|    balance_salary|age_cat|creditscore_group|\n",
            "+-----------+---------+------+---+------+---------+-------------+---------+--------------+---------------+------+--------------------+------------------+------------------+-------+-----------------+\n",
            "|        619|   France|Female| 42|     2|      0.0|            1|        1|             1|      101348.88|     1|0.006107615594765329|              1238|               0.0|      2|             fair|\n",
            "|        608|    Spain|Female| 41|     1| 83807.86|            1|        0|             1|      112542.58|     0|0.005402399696186101|               608|0.7446769036217226|      2|             fair|\n",
            "|        502|   France|Female| 42|     8| 159660.8|            3|        1|             0|      113931.57|     1|0.004406153623618106|              4016|1.4013745268322026|      2|        very poor|\n",
            "|        699|   France|Female| 39|     1|      0.0|            2|        0|             0|       93826.63|     0|0.007449910542454738|               699|               0.0|      2|             good|\n",
            "|        850|    Spain|Female| 43|     2|125510.82|            1|        1|             1|        79084.1|     0|0.010748051757559357|              1700|1.5870550464631954|      2|        excellent|\n",
            "|        645|    Spain|  Male| 44|     8|113755.78|            2|        1|             0|      149756.71|     1|0.004306985643581513|              5160|0.7596038935417319|      2|             fair|\n",
            "|        822|   France|  Male| 50|     7|      0.0|            2|        1|             1|        10062.8|     0| 0.08168700560480185|              5754|               0.0|      2|        excellent|\n",
            "|        376|  Germany|Female| 29|     4|115046.74|            4|        1|             0|      119346.88|     1|0.003150480347705...|              1504|0.9639693974404694|      1|        very poor|\n",
            "|        501|   France|  Male| 44|     4|142051.07|            2|        0|             1|        74940.5|     0|0.006685303674248237|              2004|1.8955180443151567|      2|        very poor|\n",
            "|        684|   France|  Male| 27|     2|134603.88|            1|        1|             1|       71725.73|     0|0.009536326782592523|              1368| 1.876647055387237|      1|             good|\n",
            "|        528|   France|  Male| 31|     6|102016.72|            2|        0|             0|       80181.12|     0|0.006585091353176409|              3168|1.2723284483928388|      1|        very poor|\n",
            "|        497|    Spain|  Male| 24|     3|      0.0|            2|        1|             0|       76390.01|     0|0.006506086332492954|              1491|               0.0|      1|        very poor|\n",
            "|        476|   France|Female| 34|    10|      0.0|            2|        1|             0|       26260.98|     0|0.018125751590382384|              4760|               0.0|      1|        very poor|\n",
            "|        549|   France|Female| 25|     5|      0.0|            2|        0|             0|      190857.79|     0|0.002876487252629...|              2745|               0.0|      1|        very poor|\n",
            "|        635|    Spain|Female| 35|     7|      0.0|            2|        1|             1|       65951.65|     0|0.009628265555145323|              4445|               0.0|      2|             fair|\n",
            "|        616|  Germany|  Male| 45|     3|143129.41|            2|        0|             1|       64327.26|     0|0.009576033550939368|              1848|2.2250195329320728|      2|             fair|\n",
            "|        653|  Germany|  Male| 58|     1|132602.88|            1|        1|             0|        5097.67|     1|  0.1280977387708502|               653| 26.01244882465911|      3|             fair|\n",
            "|        549|    Spain|Female| 24|     9|      0.0|            2|        1|             1|       14406.41|     0| 0.03810803663091638|              4941|               0.0|      1|        very poor|\n",
            "|        587|    Spain|  Male| 45|     6|      0.0|            1|        0|             0|      158684.81|     0|0.003699156838011...|              3522|               0.0|      2|        very poor|\n",
            "|        726|   France|Female| 24|     6|      0.0|            2|        1|             1|       54724.03|     0|0.013266566808036616|              4356|               0.0|      1|             good|\n",
            "+-----------+---------+------+---+------+---------+-------------+---------+--------------+---------------+------+--------------------+------------------+------------------+-------+-----------------+\n",
            "only showing top 20 rows\n",
            "\n"
          ]
        }
      ],
      "source": [
        "spark_df.withColumn('creditscore_group',\n",
        "                    when(spark_df['creditscore'] < 301, \"deep\").\n",
        "                    when((301 < spark_df['creditscore']) & (spark_df['creditscore'] < 601), \"very poor\").\n",
        "                    when((500 < spark_df['creditscore']) & (spark_df['creditscore'] < 601), \"poor\").\n",
        "                    when((601 < spark_df['creditscore']) & (spark_df['creditscore'] < 661), \"fair\").\n",
        "                    when((661 < spark_df['creditscore']) & (spark_df['creditscore'] < 781), \"good\").\n",
        "                    when((781 < spark_df['creditscore']) & (spark_df['creditscore'] < 851), \"excellent\").\n",
        "                    otherwise(\"top\")).show()"
      ]
    },
    {
      "cell_type": "code",
      "execution_count": 41,
      "id": "0d2ef405",
      "metadata": {
        "execution": {
          "iopub.execute_input": "2021-11-14T14:16:07.494192Z",
          "iopub.status.busy": "2021-11-14T14:16:07.493461Z",
          "iopub.status.idle": "2021-11-14T14:16:08.526869Z",
          "shell.execute_reply": "2021-11-14T14:16:08.527468Z",
          "shell.execute_reply.started": "2021-11-14T13:28:38.688626Z"
        },
        "papermill": {
          "duration": 1.27528,
          "end_time": "2021-11-14T14:16:08.527753",
          "exception": false,
          "start_time": "2021-11-14T14:16:07.252473",
          "status": "completed"
        },
        "tags": [],
        "colab": {
          "base_uri": "https://localhost:8080/"
        },
        "id": "0d2ef405",
        "outputId": "c3617223-637f-4829-b9ac-1f31a99ccfa2"
      },
      "outputs": [
        {
          "output_type": "stream",
          "name": "stdout",
          "text": [
            "+-----------+---------+------+---+------+---------+-------------+---------+--------------+---------------+------+--------------------+------------------+------------------+-------+---------+\n",
            "|creditscore|geography|gender|age|tenure|  balance|numofproducts|hascrcard|isactivemember|estimatedsalary|exited|  creditscore_salary|creditscore_tenure|    balance_salary|age_cat|  segment|\n",
            "+-----------+---------+------+---+------+---------+-------------+---------+--------------+---------------+------+--------------------+------------------+------------------+-------+---------+\n",
            "|        619|   France|Female| 42|     2|      0.0|            1|        1|             1|      101348.88|     1|0.006107615594765329|              1238|               0.0|      2|segment_b|\n",
            "|        608|    Spain|Female| 41|     1| 83807.86|            1|        0|             1|      112542.58|     0|0.005402399696186101|               608|0.7446769036217226|      2|segment_b|\n",
            "|        502|   France|Female| 42|     8| 159660.8|            3|        1|             0|      113931.57|     1|0.004406153623618106|              4016|1.4013745268322026|      2|segment_a|\n",
            "|        699|   France|Female| 39|     1|      0.0|            2|        0|             0|       93826.63|     0|0.007449910542454738|               699|               0.0|      2|segment_b|\n",
            "|        850|    Spain|Female| 43|     2|125510.82|            1|        1|             1|        79084.1|     0|0.010748051757559357|              1700|1.5870550464631954|      2|segment_b|\n",
            "+-----------+---------+------+---+------+---------+-------------+---------+--------------+---------------+------+--------------------+------------------+------------------+-------+---------+\n",
            "only showing top 5 rows\n",
            "\n"
          ]
        }
      ],
      "source": [
        "from pyspark.sql.types import IntegerType, StringType, FloatType\n",
        "from pyspark.sql.functions import udf\n",
        "\n",
        "# Function with UDF\n",
        "def segment(tenure):\n",
        "    if tenure < 5:\n",
        "        return \"segment_b\"\n",
        "    else:\n",
        "        return \"segment_a\"\n",
        "# Convert a Python function to PySpark UDF\n",
        "func_udf = udf(segment, StringType())\n",
        "spark_df = spark_df.withColumn('segment', func_udf(spark_df['tenure']))\n",
        "spark_df.show(5)"
      ]
    },
    {
      "cell_type": "code",
      "execution_count": 42,
      "id": "eef72460",
      "metadata": {
        "execution": {
          "iopub.execute_input": "2021-11-14T14:16:09.004078Z",
          "iopub.status.busy": "2021-11-14T14:16:09.003250Z",
          "iopub.status.idle": "2021-11-14T14:16:10.667864Z",
          "shell.execute_reply": "2021-11-14T14:16:10.666674Z",
          "shell.execute_reply.started": "2021-11-14T13:28:40.012168Z"
        },
        "papermill": {
          "duration": 1.905099,
          "end_time": "2021-11-14T14:16:10.668108",
          "exception": false,
          "start_time": "2021-11-14T14:16:08.763009",
          "status": "completed"
        },
        "tags": [],
        "colab": {
          "base_uri": "https://localhost:8080/"
        },
        "id": "eef72460",
        "outputId": "d0bb84c1-652a-40f9-b580-2461e322e2d9"
      },
      "outputs": [
        {
          "output_type": "stream",
          "name": "stdout",
          "text": [
            "+-----------+---------+------+---+------+---------+-------------+---------+--------------+---------------+------+--------------------+------------------+------------------+-------+---------+-------------+\n",
            "|creditscore|geography|gender|age|tenure|  balance|numofproducts|hascrcard|isactivemember|estimatedsalary|exited|  creditscore_salary|creditscore_tenure|    balance_salary|age_cat|  segment|segment_label|\n",
            "+-----------+---------+------+---+------+---------+-------------+---------+--------------+---------------+------+--------------------+------------------+------------------+-------+---------+-------------+\n",
            "|        619|   France|Female| 42|     2|      0.0|            1|        1|             1|      101348.88|     1|0.006107615594765329|              1238|               0.0|      2|segment_b|          1.0|\n",
            "|        608|    Spain|Female| 41|     1| 83807.86|            1|        0|             1|      112542.58|     0|0.005402399696186101|               608|0.7446769036217226|      2|segment_b|          1.0|\n",
            "|        502|   France|Female| 42|     8| 159660.8|            3|        1|             0|      113931.57|     1|0.004406153623618106|              4016|1.4013745268322026|      2|segment_a|          0.0|\n",
            "|        699|   France|Female| 39|     1|      0.0|            2|        0|             0|       93826.63|     0|0.007449910542454738|               699|               0.0|      2|segment_b|          1.0|\n",
            "|        850|    Spain|Female| 43|     2|125510.82|            1|        1|             1|        79084.1|     0|0.010748051757559357|              1700|1.5870550464631954|      2|segment_b|          1.0|\n",
            "+-----------+---------+------+---+------+---------+-------------+---------+--------------+---------------+------+--------------------+------------------+------------------+-------+---------+-------------+\n",
            "only showing top 5 rows\n",
            "\n"
          ]
        }
      ],
      "source": [
        "indexer = StringIndexer(inputCol=\"segment\", outputCol=\"segment_label\")\n",
        "indexer.fit(spark_df).transform(spark_df).show(5)\n",
        "temp_sdf = indexer.fit(spark_df).transform(spark_df)\n",
        "spark_df = temp_sdf.withColumn(\"segment_label\", temp_sdf[\"segment_label\"].cast(\"integer\"))\n",
        "spark_df = spark_df.drop('segment')"
      ]
    },
    {
      "cell_type": "code",
      "source": [
        "spark_df.printSchema()"
      ],
      "metadata": {
        "colab": {
          "base_uri": "https://localhost:8080/"
        },
        "id": "y5l3bKBieD0a",
        "outputId": "d096e1a0-dffe-4f92-83de-0179c0a7e2e0"
      },
      "id": "y5l3bKBieD0a",
      "execution_count": 47,
      "outputs": [
        {
          "output_type": "stream",
          "name": "stdout",
          "text": [
            "root\n",
            " |-- creditscore: integer (nullable = true)\n",
            " |-- geography: string (nullable = true)\n",
            " |-- gender: string (nullable = true)\n",
            " |-- age: integer (nullable = true)\n",
            " |-- tenure: integer (nullable = true)\n",
            " |-- balance: double (nullable = true)\n",
            " |-- numofproducts: integer (nullable = true)\n",
            " |-- hascrcard: integer (nullable = true)\n",
            " |-- isactivemember: integer (nullable = true)\n",
            " |-- estimatedsalary: double (nullable = true)\n",
            " |-- exited: integer (nullable = true)\n",
            " |-- creditscore_salary: double (nullable = true)\n",
            " |-- creditscore_tenure: integer (nullable = true)\n",
            " |-- balance_salary: double (nullable = true)\n",
            " |-- age_cat: integer (nullable = true)\n",
            " |-- segment_label: integer (nullable = true)\n",
            "\n"
          ]
        }
      ]
    },
    {
      "cell_type": "code",
      "execution_count": 48,
      "id": "83bc133a",
      "metadata": {
        "execution": {
          "iopub.execute_input": "2021-11-14T14:16:11.171194Z",
          "iopub.status.busy": "2021-11-14T14:16:11.170408Z",
          "iopub.status.idle": "2021-11-14T14:16:12.128342Z",
          "shell.execute_reply": "2021-11-14T14:16:12.127083Z",
          "shell.execute_reply.started": "2021-11-14T13:28:41.774984Z"
        },
        "papermill": {
          "duration": 1.217505,
          "end_time": "2021-11-14T14:16:12.128609",
          "exception": false,
          "start_time": "2021-11-14T14:16:10.911104",
          "status": "completed"
        },
        "tags": [],
        "colab": {
          "base_uri": "https://localhost:8080/"
        },
        "id": "83bc133a",
        "outputId": "6bdb43dd-9b88-4814-afb3-5e8f87d63e02"
      },
      "outputs": [
        {
          "output_type": "stream",
          "name": "stdout",
          "text": [
            "+-----------+---------+------+---+------+---------+-------------+---------+--------------+---------------+------+--------------------+------------------+------------------+-------+-------------+------------+\n",
            "|creditscore|geography|gender|age|tenure|  balance|numofproducts|hascrcard|isactivemember|estimatedsalary|exited|  creditscore_salary|creditscore_tenure|    balance_salary|age_cat|segment_label|gender_label|\n",
            "+-----------+---------+------+---+------+---------+-------------+---------+--------------+---------------+------+--------------------+------------------+------------------+-------+-------------+------------+\n",
            "|        619|   France|Female| 42|     2|      0.0|            1|        1|             1|      101348.88|     1|0.006107615594765329|              1238|               0.0|      2|            1|         1.0|\n",
            "|        608|    Spain|Female| 41|     1| 83807.86|            1|        0|             1|      112542.58|     0|0.005402399696186101|               608|0.7446769036217226|      2|            1|         1.0|\n",
            "|        502|   France|Female| 42|     8| 159660.8|            3|        1|             0|      113931.57|     1|0.004406153623618106|              4016|1.4013745268322026|      2|            0|         1.0|\n",
            "|        699|   France|Female| 39|     1|      0.0|            2|        0|             0|       93826.63|     0|0.007449910542454738|               699|               0.0|      2|            1|         1.0|\n",
            "|        850|    Spain|Female| 43|     2|125510.82|            1|        1|             1|        79084.1|     0|0.010748051757559357|              1700|1.5870550464631954|      2|            1|         1.0|\n",
            "+-----------+---------+------+---+------+---------+-------------+---------+--------------+---------------+------+--------------------+------------------+------------------+-------+-------------+------------+\n",
            "only showing top 5 rows\n",
            "\n"
          ]
        }
      ],
      "source": [
        "indexer = StringIndexer(inputCol=\"gender\", outputCol=\"gender_label\")\n",
        "indexer.fit(spark_df).transform(spark_df).show(5)\n",
        "temp_sdf = indexer.fit(spark_df).transform(spark_df)\n",
        "spark_df = temp_sdf.withColumn(\"gender_label\", temp_sdf[\"gender_label\"].cast(\"integer\"))\n",
        "spark_df = spark_df.drop('gender')"
      ]
    },
    {
      "cell_type": "code",
      "execution_count": 49,
      "id": "a75456a4",
      "metadata": {
        "execution": {
          "iopub.execute_input": "2021-11-14T14:16:12.627017Z",
          "iopub.status.busy": "2021-11-14T14:16:12.626001Z",
          "iopub.status.idle": "2021-11-14T14:16:13.380869Z",
          "shell.execute_reply": "2021-11-14T14:16:13.379804Z",
          "shell.execute_reply.started": "2021-11-14T13:28:42.951290Z"
        },
        "papermill": {
          "duration": 1.008533,
          "end_time": "2021-11-14T14:16:13.381133",
          "exception": false,
          "start_time": "2021-11-14T14:16:12.372600",
          "status": "completed"
        },
        "tags": [],
        "colab": {
          "base_uri": "https://localhost:8080/"
        },
        "id": "a75456a4",
        "outputId": "f24da792-f7b1-484d-b84f-d9ffdcd2b9ff"
      },
      "outputs": [
        {
          "output_type": "stream",
          "name": "stdout",
          "text": [
            "+-----------+---------+---+------+---------+-------------+---------+--------------+---------------+------+--------------------+------------------+------------------+-------+-------------+------------+---------------+\n",
            "|creditscore|geography|age|tenure|  balance|numofproducts|hascrcard|isactivemember|estimatedsalary|exited|  creditscore_salary|creditscore_tenure|    balance_salary|age_cat|segment_label|gender_label|geography_label|\n",
            "+-----------+---------+---+------+---------+-------------+---------+--------------+---------------+------+--------------------+------------------+------------------+-------+-------------+------------+---------------+\n",
            "|        619|   France| 42|     2|      0.0|            1|        1|             1|      101348.88|     1|0.006107615594765329|              1238|               0.0|      2|            1|           1|            0.0|\n",
            "|        608|    Spain| 41|     1| 83807.86|            1|        0|             1|      112542.58|     0|0.005402399696186101|               608|0.7446769036217226|      2|            1|           1|            2.0|\n",
            "|        502|   France| 42|     8| 159660.8|            3|        1|             0|      113931.57|     1|0.004406153623618106|              4016|1.4013745268322026|      2|            0|           1|            0.0|\n",
            "|        699|   France| 39|     1|      0.0|            2|        0|             0|       93826.63|     0|0.007449910542454738|               699|               0.0|      2|            1|           1|            0.0|\n",
            "|        850|    Spain| 43|     2|125510.82|            1|        1|             1|        79084.1|     0|0.010748051757559357|              1700|1.5870550464631954|      2|            1|           1|            2.0|\n",
            "+-----------+---------+---+------+---------+-------------+---------+--------------+---------------+------+--------------------+------------------+------------------+-------+-------------+------------+---------------+\n",
            "only showing top 5 rows\n",
            "\n"
          ]
        }
      ],
      "source": [
        "indexer = StringIndexer(inputCol=\"geography\", outputCol=\"geography_label\")\n",
        "indexer.fit(spark_df).transform(spark_df).show(5)\n",
        "temp_sdf = indexer.fit(spark_df).transform(spark_df)\n",
        "spark_df = temp_sdf.withColumn(\"geography_label\", temp_sdf[\"geography_label\"].cast(\"integer\"))\n",
        "spark_df = spark_df.drop('geography')"
      ]
    },
    {
      "cell_type": "markdown",
      "id": "4b2cdbcc",
      "metadata": {
        "papermill": {
          "duration": 0.239939,
          "end_time": "2021-11-14T14:16:13.868203",
          "exception": false,
          "start_time": "2021-11-14T14:16:13.628264",
          "status": "completed"
        },
        "tags": [],
        "id": "4b2cdbcc"
      },
      "source": [
        "**One Hot Encoding**"
      ]
    },
    {
      "cell_type": "code",
      "execution_count": 50,
      "id": "46928e4e",
      "metadata": {
        "execution": {
          "iopub.execute_input": "2021-11-14T14:16:14.352671Z",
          "iopub.status.busy": "2021-11-14T14:16:14.351845Z",
          "iopub.status.idle": "2021-11-14T14:16:14.922880Z",
          "shell.execute_reply": "2021-11-14T14:16:14.921927Z",
          "shell.execute_reply.started": "2021-11-14T13:28:43.858950Z"
        },
        "papermill": {
          "duration": 0.815838,
          "end_time": "2021-11-14T14:16:14.923112",
          "exception": false,
          "start_time": "2021-11-14T14:16:14.107274",
          "status": "completed"
        },
        "tags": [],
        "id": "46928e4e"
      },
      "outputs": [],
      "source": [
        "encoder = OneHotEncoder(inputCols=[\"age_cat\", \"geography_label\"], outputCols=[\"age_cat_ohe\", \"geography_label_ohe\"])\n",
        "spark_df = encoder.fit(spark_df).transform(spark_df)"
      ]
    },
    {
      "cell_type": "markdown",
      "id": "bfba2ceb",
      "metadata": {
        "papermill": {
          "duration": 0.249253,
          "end_time": "2021-11-14T14:16:15.450427",
          "exception": false,
          "start_time": "2021-11-14T14:16:15.201174",
          "status": "completed"
        },
        "tags": [],
        "id": "bfba2ceb"
      },
      "source": [
        "# Defining Target Column"
      ]
    },
    {
      "cell_type": "code",
      "execution_count": 51,
      "id": "5c1ffd3f",
      "metadata": {
        "execution": {
          "iopub.execute_input": "2021-11-14T14:16:15.939662Z",
          "iopub.status.busy": "2021-11-14T14:16:15.938857Z",
          "iopub.status.idle": "2021-11-14T14:16:16.737155Z",
          "shell.execute_reply": "2021-11-14T14:16:16.738146Z",
          "shell.execute_reply.started": "2021-11-14T13:28:44.480764Z"
        },
        "papermill": {
          "duration": 1.046782,
          "end_time": "2021-11-14T14:16:16.738458",
          "exception": false,
          "start_time": "2021-11-14T14:16:15.691676",
          "status": "completed"
        },
        "tags": [],
        "colab": {
          "base_uri": "https://localhost:8080/"
        },
        "id": "5c1ffd3f",
        "outputId": "5da7811b-26e9-4771-a29a-7acc14656726"
      },
      "outputs": [
        {
          "output_type": "stream",
          "name": "stdout",
          "text": [
            "+-----------+---+------+---------+-------------+---------+--------------+---------------+------+--------------------+------------------+------------------+-------+-------------+------------+---------------+-------------+-------------------+-----+\n",
            "|creditscore|age|tenure|  balance|numofproducts|hascrcard|isactivemember|estimatedsalary|exited|  creditscore_salary|creditscore_tenure|    balance_salary|age_cat|segment_label|gender_label|geography_label|  age_cat_ohe|geography_label_ohe|label|\n",
            "+-----------+---+------+---------+-------------+---------+--------------+---------------+------+--------------------+------------------+------------------+-------+-------------+------------+---------------+-------------+-------------------+-----+\n",
            "|        619| 42|     2|      0.0|            1|        1|             1|      101348.88|     1|0.006107615594765329|              1238|               0.0|      2|            1|           1|              0|(4,[2],[1.0])|      (2,[0],[1.0])|  1.0|\n",
            "|        608| 41|     1| 83807.86|            1|        0|             1|      112542.58|     0|0.005402399696186101|               608|0.7446769036217226|      2|            1|           1|              2|(4,[2],[1.0])|          (2,[],[])|  0.0|\n",
            "|        502| 42|     8| 159660.8|            3|        1|             0|      113931.57|     1|0.004406153623618106|              4016|1.4013745268322026|      2|            0|           1|              0|(4,[2],[1.0])|      (2,[0],[1.0])|  1.0|\n",
            "|        699| 39|     1|      0.0|            2|        0|             0|       93826.63|     0|0.007449910542454738|               699|               0.0|      2|            1|           1|              0|(4,[2],[1.0])|      (2,[0],[1.0])|  0.0|\n",
            "|        850| 43|     2|125510.82|            1|        1|             1|        79084.1|     0|0.010748051757559357|              1700|1.5870550464631954|      2|            1|           1|              2|(4,[2],[1.0])|          (2,[],[])|  0.0|\n",
            "|        645| 44|     8|113755.78|            2|        1|             0|      149756.71|     1|0.004306985643581513|              5160|0.7596038935417319|      2|            0|           0|              2|(4,[2],[1.0])|          (2,[],[])|  1.0|\n",
            "|        822| 50|     7|      0.0|            2|        1|             1|        10062.8|     0| 0.08168700560480185|              5754|               0.0|      2|            0|           0|              0|(4,[2],[1.0])|      (2,[0],[1.0])|  0.0|\n",
            "|        376| 29|     4|115046.74|            4|        1|             0|      119346.88|     1|0.003150480347705...|              1504|0.9639693974404694|      1|            1|           1|              1|(4,[1],[1.0])|      (2,[1],[1.0])|  1.0|\n",
            "|        501| 44|     4|142051.07|            2|        0|             1|        74940.5|     0|0.006685303674248237|              2004|1.8955180443151567|      2|            1|           0|              0|(4,[2],[1.0])|      (2,[0],[1.0])|  0.0|\n",
            "|        684| 27|     2|134603.88|            1|        1|             1|       71725.73|     0|0.009536326782592523|              1368| 1.876647055387237|      1|            1|           0|              0|(4,[1],[1.0])|      (2,[0],[1.0])|  0.0|\n",
            "|        528| 31|     6|102016.72|            2|        0|             0|       80181.12|     0|0.006585091353176409|              3168|1.2723284483928388|      1|            0|           0|              0|(4,[1],[1.0])|      (2,[0],[1.0])|  0.0|\n",
            "|        497| 24|     3|      0.0|            2|        1|             0|       76390.01|     0|0.006506086332492954|              1491|               0.0|      1|            1|           0|              2|(4,[1],[1.0])|          (2,[],[])|  0.0|\n",
            "|        476| 34|    10|      0.0|            2|        1|             0|       26260.98|     0|0.018125751590382384|              4760|               0.0|      1|            0|           1|              0|(4,[1],[1.0])|      (2,[0],[1.0])|  0.0|\n",
            "|        549| 25|     5|      0.0|            2|        0|             0|      190857.79|     0|0.002876487252629...|              2745|               0.0|      1|            0|           1|              0|(4,[1],[1.0])|      (2,[0],[1.0])|  0.0|\n",
            "|        635| 35|     7|      0.0|            2|        1|             1|       65951.65|     0|0.009628265555145323|              4445|               0.0|      2|            0|           1|              2|(4,[2],[1.0])|          (2,[],[])|  0.0|\n",
            "|        616| 45|     3|143129.41|            2|        0|             1|       64327.26|     0|0.009576033550939368|              1848|2.2250195329320728|      2|            1|           0|              1|(4,[2],[1.0])|      (2,[1],[1.0])|  0.0|\n",
            "|        653| 58|     1|132602.88|            1|        1|             0|        5097.67|     1|  0.1280977387708502|               653| 26.01244882465911|      3|            1|           0|              1|(4,[3],[1.0])|      (2,[1],[1.0])|  1.0|\n",
            "|        549| 24|     9|      0.0|            2|        1|             1|       14406.41|     0| 0.03810803663091638|              4941|               0.0|      1|            0|           1|              2|(4,[1],[1.0])|          (2,[],[])|  0.0|\n",
            "|        587| 45|     6|      0.0|            1|        0|             0|      158684.81|     0|0.003699156838011...|              3522|               0.0|      2|            0|           0|              2|(4,[2],[1.0])|          (2,[],[])|  0.0|\n",
            "|        726| 24|     6|      0.0|            2|        1|             1|       54724.03|     0|0.013266566808036616|              4356|               0.0|      1|            0|           1|              0|(4,[1],[1.0])|      (2,[0],[1.0])|  0.0|\n",
            "+-----------+---+------+---------+-------------+---------+--------------+---------------+------+--------------------+------------------+------------------+-------+-------------+------------+---------------+-------------+-------------------+-----+\n",
            "only showing top 20 rows\n",
            "\n"
          ]
        }
      ],
      "source": [
        "stringIndexer = StringIndexer(inputCol='exited', outputCol='label')\n",
        "\n",
        "temp_sdf = stringIndexer.fit(spark_df).transform(spark_df)\n",
        "temp_sdf.show()"
      ]
    },
    {
      "cell_type": "code",
      "execution_count": 52,
      "id": "dfce96e3",
      "metadata": {
        "execution": {
          "iopub.execute_input": "2021-11-14T14:16:17.268867Z",
          "iopub.status.busy": "2021-11-14T14:16:17.267963Z",
          "iopub.status.idle": "2021-11-14T14:16:17.615485Z",
          "shell.execute_reply": "2021-11-14T14:16:17.616230Z",
          "shell.execute_reply.started": "2021-11-14T13:28:45.248742Z"
        },
        "papermill": {
          "duration": 0.634687,
          "end_time": "2021-11-14T14:16:17.616519",
          "exception": false,
          "start_time": "2021-11-14T14:16:16.981832",
          "status": "completed"
        },
        "tags": [],
        "colab": {
          "base_uri": "https://localhost:8080/"
        },
        "id": "dfce96e3",
        "outputId": "f93dd8da-7a6a-47a0-dbdd-20003ec3f724"
      },
      "outputs": [
        {
          "output_type": "stream",
          "name": "stdout",
          "text": [
            "+-----------+---+------+---------+-------------+---------+--------------+---------------+------+--------------------+------------------+------------------+-------+-------------+------------+---------------+-------------+-------------------+-----+\n",
            "|creditscore|age|tenure|  balance|numofproducts|hascrcard|isactivemember|estimatedsalary|exited|  creditscore_salary|creditscore_tenure|    balance_salary|age_cat|segment_label|gender_label|geography_label|  age_cat_ohe|geography_label_ohe|label|\n",
            "+-----------+---+------+---------+-------------+---------+--------------+---------------+------+--------------------+------------------+------------------+-------+-------------+------------+---------------+-------------+-------------------+-----+\n",
            "|        619| 42|     2|      0.0|            1|        1|             1|      101348.88|     1|0.006107615594765329|              1238|               0.0|      2|            1|           1|              0|(4,[2],[1.0])|      (2,[0],[1.0])|    1|\n",
            "|        608| 41|     1| 83807.86|            1|        0|             1|      112542.58|     0|0.005402399696186101|               608|0.7446769036217226|      2|            1|           1|              2|(4,[2],[1.0])|          (2,[],[])|    0|\n",
            "|        502| 42|     8| 159660.8|            3|        1|             0|      113931.57|     1|0.004406153623618106|              4016|1.4013745268322026|      2|            0|           1|              0|(4,[2],[1.0])|      (2,[0],[1.0])|    1|\n",
            "|        699| 39|     1|      0.0|            2|        0|             0|       93826.63|     0|0.007449910542454738|               699|               0.0|      2|            1|           1|              0|(4,[2],[1.0])|      (2,[0],[1.0])|    0|\n",
            "|        850| 43|     2|125510.82|            1|        1|             1|        79084.1|     0|0.010748051757559357|              1700|1.5870550464631954|      2|            1|           1|              2|(4,[2],[1.0])|          (2,[],[])|    0|\n",
            "+-----------+---+------+---------+-------------+---------+--------------+---------------+------+--------------------+------------------+------------------+-------+-------------+------------+---------------+-------------+-------------------+-----+\n",
            "only showing top 5 rows\n",
            "\n"
          ]
        }
      ],
      "source": [
        "spark_df = temp_sdf.withColumn(\"label\", temp_sdf[\"label\"].cast(\"integer\"))\n",
        "spark_df.show(5)"
      ]
    },
    {
      "cell_type": "code",
      "execution_count": 53,
      "id": "85be259b",
      "metadata": {
        "execution": {
          "iopub.execute_input": "2021-11-14T14:16:18.106420Z",
          "iopub.status.busy": "2021-11-14T14:16:18.105678Z",
          "iopub.status.idle": "2021-11-14T14:16:18.107348Z",
          "shell.execute_reply": "2021-11-14T14:16:18.107926Z",
          "shell.execute_reply.started": "2021-11-14T13:28:45.621793Z"
        },
        "papermill": {
          "duration": 0.254027,
          "end_time": "2021-11-14T14:16:18.108116",
          "exception": false,
          "start_time": "2021-11-14T14:16:17.854089",
          "status": "completed"
        },
        "tags": [],
        "id": "85be259b"
      },
      "outputs": [],
      "source": [
        "cols = ['creditscore', 'age', 'tenure', 'balance','numofproducts', 'hascrcard',\n",
        "        'isactivemember', 'estimatedsalary', 'creditscore_salary', 'creditscore_tenure',\n",
        "        'balance_salary', 'segment_label', 'gender_label',\n",
        "        'age_cat_ohe', 'geography_label_ohe']"
      ]
    },
    {
      "cell_type": "markdown",
      "id": "c2b58e5a",
      "metadata": {
        "papermill": {
          "duration": 0.236527,
          "end_time": "2021-11-14T14:16:18.582600",
          "exception": false,
          "start_time": "2021-11-14T14:16:18.346073",
          "status": "completed"
        },
        "tags": [],
        "id": "c2b58e5a"
      },
      "source": [
        "# Vectorize independent variables"
      ]
    },
    {
      "cell_type": "markdown",
      "source": [
        "**VectorAssembler** is a transformer that combines a given list of columns into a single vector column. </br> \n",
        "It is useful for combining raw features and features generated by different feature transformers into a single feature vector, in order to train ML models like logistic regression and decision trees."
      ],
      "metadata": {
        "id": "UPe1VWNSf_2I"
      },
      "id": "UPe1VWNSf_2I"
    },
    {
      "cell_type": "code",
      "execution_count": 55,
      "id": "981e106f",
      "metadata": {
        "execution": {
          "iopub.execute_input": "2021-11-14T14:16:19.068105Z",
          "iopub.status.busy": "2021-11-14T14:16:19.067310Z",
          "iopub.status.idle": "2021-11-14T14:16:19.502867Z",
          "shell.execute_reply": "2021-11-14T14:16:19.502077Z",
          "shell.execute_reply.started": "2021-11-14T13:28:45.630742Z"
        },
        "papermill": {
          "duration": 0.682034,
          "end_time": "2021-11-14T14:16:19.503088",
          "exception": false,
          "start_time": "2021-11-14T14:16:18.821054",
          "status": "completed"
        },
        "tags": [],
        "colab": {
          "base_uri": "https://localhost:8080/"
        },
        "id": "981e106f",
        "outputId": "c5098db2-f1c7-451b-9fd7-8ddbbc3fb522"
      },
      "outputs": [
        {
          "output_type": "stream",
          "name": "stdout",
          "text": [
            "+-----------+---+------+---------+-------------+---------+--------------+---------------+------+--------------------+------------------+------------------+-------+-------------+------------+---------------+-------------+-------------------+-----+--------------------+\n",
            "|creditscore|age|tenure|  balance|numofproducts|hascrcard|isactivemember|estimatedsalary|exited|  creditscore_salary|creditscore_tenure|    balance_salary|age_cat|segment_label|gender_label|geography_label|  age_cat_ohe|geography_label_ohe|label|            features|\n",
            "+-----------+---+------+---------+-------------+---------+--------------+---------------+------+--------------------+------------------+------------------+-------+-------------+------------+---------------+-------------+-------------------+-----+--------------------+\n",
            "|        619| 42|     2|      0.0|            1|        1|             1|      101348.88|     1|0.006107615594765329|              1238|               0.0|      2|            1|           1|              0|(4,[2],[1.0])|      (2,[0],[1.0])|    1|[619.0,42.0,2.0,0...|\n",
            "|        608| 41|     1| 83807.86|            1|        0|             1|      112542.58|     0|0.005402399696186101|               608|0.7446769036217226|      2|            1|           1|              2|(4,[2],[1.0])|          (2,[],[])|    0|[608.0,41.0,1.0,8...|\n",
            "|        502| 42|     8| 159660.8|            3|        1|             0|      113931.57|     1|0.004406153623618106|              4016|1.4013745268322026|      2|            0|           1|              0|(4,[2],[1.0])|      (2,[0],[1.0])|    1|[502.0,42.0,8.0,1...|\n",
            "|        699| 39|     1|      0.0|            2|        0|             0|       93826.63|     0|0.007449910542454738|               699|               0.0|      2|            1|           1|              0|(4,[2],[1.0])|      (2,[0],[1.0])|    0|(19,[0,1,2,4,7,8,...|\n",
            "|        850| 43|     2|125510.82|            1|        1|             1|        79084.1|     0|0.010748051757559357|              1700|1.5870550464631954|      2|            1|           1|              2|(4,[2],[1.0])|          (2,[],[])|    0|[850.0,43.0,2.0,1...|\n",
            "|        645| 44|     8|113755.78|            2|        1|             0|      149756.71|     1|0.004306985643581513|              5160|0.7596038935417319|      2|            0|           0|              2|(4,[2],[1.0])|          (2,[],[])|    1|(19,[0,1,2,3,4,5,...|\n",
            "|        822| 50|     7|      0.0|            2|        1|             1|        10062.8|     0| 0.08168700560480185|              5754|               0.0|      2|            0|           0|              0|(4,[2],[1.0])|      (2,[0],[1.0])|    0|(19,[0,1,2,4,5,6,...|\n",
            "|        376| 29|     4|115046.74|            4|        1|             0|      119346.88|     1|0.003150480347705...|              1504|0.9639693974404694|      1|            1|           1|              1|(4,[1],[1.0])|      (2,[1],[1.0])|    1|[376.0,29.0,4.0,1...|\n",
            "|        501| 44|     4|142051.07|            2|        0|             1|        74940.5|     0|0.006685303674248237|              2004|1.8955180443151567|      2|            1|           0|              0|(4,[2],[1.0])|      (2,[0],[1.0])|    0|[501.0,44.0,4.0,1...|\n",
            "|        684| 27|     2|134603.88|            1|        1|             1|       71725.73|     0|0.009536326782592523|              1368| 1.876647055387237|      1|            1|           0|              0|(4,[1],[1.0])|      (2,[0],[1.0])|    0|[684.0,27.0,2.0,1...|\n",
            "|        528| 31|     6|102016.72|            2|        0|             0|       80181.12|     0|0.006585091353176409|              3168|1.2723284483928388|      1|            0|           0|              0|(4,[1],[1.0])|      (2,[0],[1.0])|    0|(19,[0,1,2,3,4,7,...|\n",
            "|        497| 24|     3|      0.0|            2|        1|             0|       76390.01|     0|0.006506086332492954|              1491|               0.0|      1|            1|           0|              2|(4,[1],[1.0])|          (2,[],[])|    0|(19,[0,1,2,4,5,7,...|\n",
            "|        476| 34|    10|      0.0|            2|        1|             0|       26260.98|     0|0.018125751590382384|              4760|               0.0|      1|            0|           1|              0|(4,[1],[1.0])|      (2,[0],[1.0])|    0|(19,[0,1,2,4,5,7,...|\n",
            "|        549| 25|     5|      0.0|            2|        0|             0|      190857.79|     0|0.002876487252629...|              2745|               0.0|      1|            0|           1|              0|(4,[1],[1.0])|      (2,[0],[1.0])|    0|(19,[0,1,2,4,7,8,...|\n",
            "|        635| 35|     7|      0.0|            2|        1|             1|       65951.65|     0|0.009628265555145323|              4445|               0.0|      2|            0|           1|              2|(4,[2],[1.0])|          (2,[],[])|    0|(19,[0,1,2,4,5,6,...|\n",
            "|        616| 45|     3|143129.41|            2|        0|             1|       64327.26|     0|0.009576033550939368|              1848|2.2250195329320728|      2|            1|           0|              1|(4,[2],[1.0])|      (2,[1],[1.0])|    0|[616.0,45.0,3.0,1...|\n",
            "|        653| 58|     1|132602.88|            1|        1|             0|        5097.67|     1|  0.1280977387708502|               653| 26.01244882465911|      3|            1|           0|              1|(4,[3],[1.0])|      (2,[1],[1.0])|    1|[653.0,58.0,1.0,1...|\n",
            "|        549| 24|     9|      0.0|            2|        1|             1|       14406.41|     0| 0.03810803663091638|              4941|               0.0|      1|            0|           1|              2|(4,[1],[1.0])|          (2,[],[])|    0|(19,[0,1,2,4,5,6,...|\n",
            "|        587| 45|     6|      0.0|            1|        0|             0|      158684.81|     0|0.003699156838011...|              3522|               0.0|      2|            0|           0|              2|(4,[2],[1.0])|          (2,[],[])|    0|(19,[0,1,2,4,7,8,...|\n",
            "|        726| 24|     6|      0.0|            2|        1|             1|       54724.03|     0|0.013266566808036616|              4356|               0.0|      1|            0|           1|              0|(4,[1],[1.0])|      (2,[0],[1.0])|    0|[726.0,24.0,6.0,0...|\n",
            "+-----------+---+------+---------+-------------+---------+--------------+---------------+------+--------------------+------------------+------------------+-------+-------------+------------+---------------+-------------+-------------------+-----+--------------------+\n",
            "only showing top 20 rows\n",
            "\n"
          ]
        }
      ],
      "source": [
        "va = VectorAssembler(inputCols=cols, outputCol=\"features\")\n",
        "va_df = va.transform(spark_df)\n",
        "va_df.show()"
      ]
    },
    {
      "cell_type": "code",
      "execution_count": 56,
      "id": "fd5d5014",
      "metadata": {
        "execution": {
          "iopub.execute_input": "2021-11-14T14:16:20.004920Z",
          "iopub.status.busy": "2021-11-14T14:16:19.998947Z",
          "iopub.status.idle": "2021-11-14T14:16:20.337622Z",
          "shell.execute_reply": "2021-11-14T14:16:20.336936Z",
          "shell.execute_reply.started": "2021-11-14T13:28:46.193261Z"
        },
        "papermill": {
          "duration": 0.588072,
          "end_time": "2021-11-14T14:16:20.337790",
          "exception": false,
          "start_time": "2021-11-14T14:16:19.749718",
          "status": "completed"
        },
        "tags": [],
        "colab": {
          "base_uri": "https://localhost:8080/"
        },
        "id": "fd5d5014",
        "outputId": "3d89c19e-d086-4574-d5cf-9c45e9a13dff"
      },
      "outputs": [
        {
          "output_type": "stream",
          "name": "stdout",
          "text": [
            "+--------------------+-----+\n",
            "|            features|label|\n",
            "+--------------------+-----+\n",
            "|[619.0,42.0,2.0,0...|    1|\n",
            "|[608.0,41.0,1.0,8...|    0|\n",
            "|[502.0,42.0,8.0,1...|    1|\n",
            "|(19,[0,1,2,4,7,8,...|    0|\n",
            "|[850.0,43.0,2.0,1...|    0|\n",
            "+--------------------+-----+\n",
            "only showing top 5 rows\n",
            "\n"
          ]
        }
      ],
      "source": [
        "final_df = va_df.select(\"features\", \"label\")\n",
        "final_df.show(5)"
      ]
    },
    {
      "cell_type": "markdown",
      "id": "99a16639",
      "metadata": {
        "papermill": {
          "duration": 0.251071,
          "end_time": "2021-11-14T14:16:20.899625",
          "exception": false,
          "start_time": "2021-11-14T14:16:20.648554",
          "status": "completed"
        },
        "tags": [],
        "id": "99a16639"
      },
      "source": [
        "# Standard Scaler"
      ]
    },
    {
      "cell_type": "code",
      "execution_count": 57,
      "id": "6b97f06c",
      "metadata": {
        "execution": {
          "iopub.execute_input": "2021-11-14T14:16:21.409605Z",
          "iopub.status.busy": "2021-11-14T14:16:21.406421Z",
          "iopub.status.idle": "2021-11-14T14:16:22.481706Z",
          "shell.execute_reply": "2021-11-14T14:16:22.480117Z",
          "shell.execute_reply.started": "2021-11-14T13:28:46.561948Z"
        },
        "papermill": {
          "duration": 1.326396,
          "end_time": "2021-11-14T14:16:22.481961",
          "exception": false,
          "start_time": "2021-11-14T14:16:21.155565",
          "status": "completed"
        },
        "tags": [],
        "id": "6b97f06c"
      },
      "outputs": [],
      "source": [
        "scaler = StandardScaler(inputCol=\"features\", outputCol=\"scaled_features\")\n",
        "final_df = scaler.fit(final_df).transform(final_df)"
      ]
    },
    {
      "cell_type": "markdown",
      "id": "a65f4299",
      "metadata": {
        "papermill": {
          "duration": 0.238953,
          "end_time": "2021-11-14T14:16:22.973563",
          "exception": false,
          "start_time": "2021-11-14T14:16:22.734610",
          "status": "completed"
        },
        "tags": [],
        "id": "a65f4299"
      },
      "source": [
        "# Split the Dataset Into Test and Train Sets"
      ]
    },
    {
      "cell_type": "code",
      "execution_count": 58,
      "id": "be4ea476",
      "metadata": {
        "execution": {
          "iopub.execute_input": "2021-11-14T14:16:23.458329Z",
          "iopub.status.busy": "2021-11-14T14:16:23.456224Z",
          "iopub.status.idle": "2021-11-14T14:16:24.444518Z",
          "shell.execute_reply": "2021-11-14T14:16:24.445410Z",
          "shell.execute_reply.started": "2021-11-14T13:28:47.642802Z"
        },
        "papermill": {
          "duration": 1.233714,
          "end_time": "2021-11-14T14:16:24.445709",
          "exception": false,
          "start_time": "2021-11-14T14:16:23.211995",
          "status": "completed"
        },
        "tags": [],
        "colab": {
          "base_uri": "https://localhost:8080/"
        },
        "id": "be4ea476",
        "outputId": "c2527119-6950-49f1-af5b-bc62b895b21d"
      },
      "outputs": [
        {
          "output_type": "stream",
          "name": "stdout",
          "text": [
            "+--------------------+-----+--------------------+\n",
            "|            features|label|     scaled_features|\n",
            "+--------------------+-----+--------------------+\n",
            "|(19,[0,1,2,3,4,5,...|    0|(19,[0,1,2,3,4,5,...|\n",
            "|(19,[0,1,2,3,4,5,...|    0|(19,[0,1,2,3,4,5,...|\n",
            "|(19,[0,1,2,3,4,5,...|    0|(19,[0,1,2,3,4,5,...|\n",
            "|(19,[0,1,2,3,4,5,...|    0|(19,[0,1,2,3,4,5,...|\n",
            "|(19,[0,1,2,3,4,5,...|    1|(19,[0,1,2,3,4,5,...|\n",
            "+--------------------+-----+--------------------+\n",
            "only showing top 5 rows\n",
            "\n"
          ]
        }
      ],
      "source": [
        "train_df, test_df = final_df.randomSplit([0.7, 0.3], seed=17)\n",
        "train_df.show(5)"
      ]
    },
    {
      "cell_type": "code",
      "execution_count": 59,
      "id": "c35b6d88",
      "metadata": {
        "execution": {
          "iopub.execute_input": "2021-11-14T14:16:24.987716Z",
          "iopub.status.busy": "2021-11-14T14:16:24.986574Z",
          "iopub.status.idle": "2021-11-14T14:16:25.616742Z",
          "shell.execute_reply": "2021-11-14T14:16:25.618342Z",
          "shell.execute_reply.started": "2021-11-14T13:28:48.606195Z"
        },
        "papermill": {
          "duration": 0.875514,
          "end_time": "2021-11-14T14:16:25.618791",
          "exception": false,
          "start_time": "2021-11-14T14:16:24.743277",
          "status": "completed"
        },
        "tags": [],
        "colab": {
          "base_uri": "https://localhost:8080/"
        },
        "id": "c35b6d88",
        "outputId": "b4002961-c336-481e-bc09-011927f166bd"
      },
      "outputs": [
        {
          "output_type": "stream",
          "name": "stdout",
          "text": [
            "+--------------------+-----+--------------------+\n",
            "|            features|label|     scaled_features|\n",
            "+--------------------+-----+--------------------+\n",
            "|(19,[0,1,2,3,4,5,...|    0|(19,[0,1,2,3,4,5,...|\n",
            "|(19,[0,1,2,3,4,5,...|    0|(19,[0,1,2,3,4,5,...|\n",
            "|(19,[0,1,2,3,4,5,...|    0|(19,[0,1,2,3,4,5,...|\n",
            "|(19,[0,1,2,3,4,5,...|    0|(19,[0,1,2,3,4,5,...|\n",
            "|(19,[0,1,2,3,4,5,...|    0|(19,[0,1,2,3,4,5,...|\n",
            "+--------------------+-----+--------------------+\n",
            "only showing top 5 rows\n",
            "\n"
          ]
        }
      ],
      "source": [
        "test_df.show(5)"
      ]
    },
    {
      "cell_type": "code",
      "execution_count": 60,
      "id": "d942b19f",
      "metadata": {
        "execution": {
          "iopub.execute_input": "2021-11-14T14:16:26.128685Z",
          "iopub.status.busy": "2021-11-14T14:16:26.127391Z",
          "iopub.status.idle": "2021-11-14T14:16:27.281825Z",
          "shell.execute_reply": "2021-11-14T14:16:27.280315Z",
          "shell.execute_reply.started": "2021-11-14T13:28:49.185157Z"
        },
        "papermill": {
          "duration": 1.40527,
          "end_time": "2021-11-14T14:16:27.282065",
          "exception": false,
          "start_time": "2021-11-14T14:16:25.876795",
          "status": "completed"
        },
        "tags": [],
        "colab": {
          "base_uri": "https://localhost:8080/"
        },
        "id": "d942b19f",
        "outputId": "9670d1cb-a9a7-4f8b-aacd-a3d1908301fb"
      },
      "outputs": [
        {
          "output_type": "stream",
          "name": "stdout",
          "text": [
            "Training Dataset Count: 6949\n",
            "Test Dataset Count: 3051\n"
          ]
        }
      ],
      "source": [
        "print(\"Training Dataset Count: \" + str(train_df.count()))\n",
        "print(\"Test Dataset Count: \" + str(test_df.count()))"
      ]
    },
    {
      "cell_type": "markdown",
      "id": "979e8efa",
      "metadata": {
        "papermill": {
          "duration": 0.239376,
          "end_time": "2021-11-14T14:16:27.778432",
          "exception": false,
          "start_time": "2021-11-14T14:16:27.539056",
          "status": "completed"
        },
        "tags": [],
        "id": "979e8efa"
      },
      "source": [
        "# Modeling"
      ]
    },
    {
      "cell_type": "markdown",
      "id": "f58c64f5",
      "metadata": {
        "papermill": {
          "duration": 0.265558,
          "end_time": "2021-11-14T14:16:28.282568",
          "exception": false,
          "start_time": "2021-11-14T14:16:28.017010",
          "status": "completed"
        },
        "tags": [],
        "id": "f58c64f5"
      },
      "source": [
        "**Logistic Regression**"
      ]
    },
    {
      "cell_type": "code",
      "execution_count": 61,
      "id": "4debdec6",
      "metadata": {
        "execution": {
          "iopub.execute_input": "2021-11-14T14:16:28.772844Z",
          "iopub.status.busy": "2021-11-14T14:16:28.771506Z",
          "iopub.status.idle": "2021-11-14T14:16:37.426214Z",
          "shell.execute_reply": "2021-11-14T14:16:37.424698Z",
          "shell.execute_reply.started": "2021-11-14T13:28:50.339084Z"
        },
        "papermill": {
          "duration": 8.90227,
          "end_time": "2021-11-14T14:16:37.426536",
          "exception": false,
          "start_time": "2021-11-14T14:16:28.524266",
          "status": "completed"
        },
        "tags": [],
        "colab": {
          "base_uri": "https://localhost:8080/"
        },
        "id": "4debdec6",
        "outputId": "38435c62-3ce5-450e-a0f6-bdf7a5f2ec2a"
      },
      "outputs": [
        {
          "output_type": "stream",
          "name": "stdout",
          "text": [
            "+--------------------+-----+--------------------+--------------------+--------------------+----------+\n",
            "|            features|label|     scaled_features|       rawPrediction|         probability|prediction|\n",
            "+--------------------+-----+--------------------+--------------------+--------------------+----------+\n",
            "|(19,[0,1,2,3,4,5,...|    0|(19,[0,1,2,3,4,5,...|[20.3342451335715...|[0.99999999852446...|       0.0|\n",
            "|(19,[0,1,2,3,4,5,...|    0|(19,[0,1,2,3,4,5,...|[2.71693288942956...|[0.93801845181519...|       0.0|\n",
            "|(19,[0,1,2,3,4,5,...|    0|(19,[0,1,2,3,4,5,...|[2.31443296331953...|[0.91006533761443...|       0.0|\n",
            "|(19,[0,1,2,3,4,5,...|    0|(19,[0,1,2,3,4,5,...|[2.73576640701778...|[0.93910443856697...|       0.0|\n",
            "|(19,[0,1,2,3,4,5,...|    0|(19,[0,1,2,3,4,5,...|[3.04619000732153...|[0.95461775295387...|       0.0|\n",
            "|(19,[0,1,2,3,4,5,...|    0|(19,[0,1,2,3,4,5,...|[2.16588869941065...|[0.89714420918183...|       0.0|\n",
            "|(19,[0,1,2,3,4,5,...|    0|(19,[0,1,2,3,4,5,...|[1.89770832057982...|[0.86963193282993...|       0.0|\n",
            "|(19,[0,1,2,3,4,5,...|    0|(19,[0,1,2,3,4,5,...|[2.18263199345567...|[0.89867898005480...|       0.0|\n",
            "|(19,[0,1,2,3,4,5,...|    1|(19,[0,1,2,3,4,5,...|[2.28448022335366...|[0.90758351548029...|       0.0|\n",
            "|(19,[0,1,2,3,4,5,...|    0|(19,[0,1,2,3,4,5,...|[2.69507744425417...|[0.93673554954879...|       0.0|\n",
            "|(19,[0,1,2,3,4,5,...|    0|(19,[0,1,2,3,4,5,...|[2.97609203906557...|[0.95148228312849...|       0.0|\n",
            "|(19,[0,1,2,3,4,5,...|    0|(19,[0,1,2,3,4,5,...|[2.49105658520495...|[0.92351247026054...|       0.0|\n",
            "|(19,[0,1,2,3,4,5,...|    0|(19,[0,1,2,3,4,5,...|[2.38255595193870...|[0.91548739896036...|       0.0|\n",
            "|(19,[0,1,2,3,4,5,...|    0|(19,[0,1,2,3,4,5,...|[2.52426369984091...|[0.92582538691088...|       0.0|\n",
            "|(19,[0,1,2,3,4,5,...|    0|(19,[0,1,2,3,4,5,...|[2.77620436688609...|[0.94137632567226...|       0.0|\n",
            "|(19,[0,1,2,3,4,5,...|    1|(19,[0,1,2,3,4,5,...|[0.88086021710666...|[0.70700044749301...|       0.0|\n",
            "|(19,[0,1,2,3,4,5,...|    1|(19,[0,1,2,3,4,5,...|[0.69318615192145...|[0.66667532691297...|       0.0|\n",
            "|(19,[0,1,2,3,4,5,...|    0|(19,[0,1,2,3,4,5,...|[1.49787684534608...|[0.81725760167312...|       0.0|\n",
            "|(19,[0,1,2,3,4,5,...|    0|(19,[0,1,2,3,4,5,...|[0.79048871787673...|[0.68793625815375...|       0.0|\n",
            "|(19,[0,1,2,3,4,5,...|    1|(19,[0,1,2,3,4,5,...|[1.58412223390985...|[0.82978753480808...|       0.0|\n",
            "+--------------------+-----+--------------------+--------------------+--------------------+----------+\n",
            "only showing top 20 rows\n",
            "\n"
          ]
        }
      ],
      "source": [
        "log_model = LogisticRegression(featuresCol='features', labelCol='label').fit(train_df)\n",
        "y_pred = log_model.transform(test_df)\n",
        "y_pred.show()"
      ]
    },
    {
      "cell_type": "code",
      "execution_count": 62,
      "id": "f871e005",
      "metadata": {
        "execution": {
          "iopub.execute_input": "2021-11-14T14:16:37.933812Z",
          "iopub.status.busy": "2021-11-14T14:16:37.932662Z",
          "iopub.status.idle": "2021-11-14T14:16:38.460096Z",
          "shell.execute_reply": "2021-11-14T14:16:38.460860Z",
          "shell.execute_reply.started": "2021-11-14T13:28:59.298371Z"
        },
        "papermill": {
          "duration": 0.778883,
          "end_time": "2021-11-14T14:16:38.461070",
          "exception": false,
          "start_time": "2021-11-14T14:16:37.682187",
          "status": "completed"
        },
        "tags": [],
        "colab": {
          "base_uri": "https://localhost:8080/"
        },
        "id": "f871e005",
        "outputId": "7b3ed3c9-e676-438d-fad6-053b9973204b"
      },
      "outputs": [
        {
          "output_type": "stream",
          "name": "stdout",
          "text": [
            "+-----+----------+\n",
            "|label|prediction|\n",
            "+-----+----------+\n",
            "|    0|       0.0|\n",
            "|    0|       0.0|\n",
            "|    0|       0.0|\n",
            "|    0|       0.0|\n",
            "|    0|       0.0|\n",
            "|    0|       0.0|\n",
            "|    0|       0.0|\n",
            "|    0|       0.0|\n",
            "|    1|       0.0|\n",
            "|    0|       0.0|\n",
            "|    0|       0.0|\n",
            "|    0|       0.0|\n",
            "|    0|       0.0|\n",
            "|    0|       0.0|\n",
            "|    0|       0.0|\n",
            "|    1|       0.0|\n",
            "|    1|       0.0|\n",
            "|    0|       0.0|\n",
            "|    0|       0.0|\n",
            "|    1|       0.0|\n",
            "+-----+----------+\n",
            "only showing top 20 rows\n",
            "\n"
          ]
        }
      ],
      "source": [
        "y_pred.select(\"label\", \"prediction\").show()"
      ]
    },
    {
      "cell_type": "markdown",
      "id": "82a5215e",
      "metadata": {
        "papermill": {
          "duration": 0.241885,
          "end_time": "2021-11-14T14:16:38.942096",
          "exception": false,
          "start_time": "2021-11-14T14:16:38.700211",
          "status": "completed"
        },
        "tags": [],
        "id": "82a5215e"
      },
      "source": [
        "**Accuracy**"
      ]
    },
    {
      "cell_type": "code",
      "execution_count": 63,
      "id": "57ee63aa",
      "metadata": {
        "execution": {
          "iopub.execute_input": "2021-11-14T14:16:39.476462Z",
          "iopub.status.busy": "2021-11-14T14:16:39.475594Z",
          "iopub.status.idle": "2021-11-14T14:16:40.626767Z",
          "shell.execute_reply": "2021-11-14T14:16:40.627329Z",
          "shell.execute_reply.started": "2021-11-14T13:28:59.879753Z"
        },
        "papermill": {
          "duration": 1.421233,
          "end_time": "2021-11-14T14:16:40.627572",
          "exception": false,
          "start_time": "2021-11-14T14:16:39.206339",
          "status": "completed"
        },
        "tags": [],
        "colab": {
          "base_uri": "https://localhost:8080/"
        },
        "id": "57ee63aa",
        "outputId": "1ba5065c-274d-424c-9f6a-efebdcd5a8ed"
      },
      "outputs": [
        {
          "output_type": "execute_result",
          "data": {
            "text/plain": [
              "0.8174369059324812"
            ]
          },
          "metadata": {},
          "execution_count": 63
        }
      ],
      "source": [
        "y_pred.filter(y_pred.label == y_pred.prediction).count() / y_pred.count()"
      ]
    },
    {
      "cell_type": "code",
      "execution_count": 64,
      "id": "20a21058",
      "metadata": {
        "execution": {
          "iopub.execute_input": "2021-11-14T14:16:41.142922Z",
          "iopub.status.busy": "2021-11-14T14:16:41.141459Z",
          "iopub.status.idle": "2021-11-14T14:16:41.163224Z",
          "shell.execute_reply": "2021-11-14T14:16:41.164078Z",
          "shell.execute_reply.started": "2021-11-14T13:29:00.969787Z"
        },
        "papermill": {
          "duration": 0.281342,
          "end_time": "2021-11-14T14:16:41.164309",
          "exception": false,
          "start_time": "2021-11-14T14:16:40.882967",
          "status": "completed"
        },
        "tags": [],
        "id": "20a21058"
      },
      "outputs": [],
      "source": [
        "evaluator = BinaryClassificationEvaluator(labelCol=\"label\", rawPredictionCol=\"prediction\", metricName='areaUnderROC')\n",
        "evaluatorMulti = MulticlassClassificationEvaluator(labelCol=\"label\", predictionCol=\"prediction\")"
      ]
    },
    {
      "cell_type": "code",
      "execution_count": 65,
      "id": "13efdab3",
      "metadata": {
        "execution": {
          "iopub.execute_input": "2021-11-14T14:16:41.691022Z",
          "iopub.status.busy": "2021-11-14T14:16:41.689865Z",
          "iopub.status.idle": "2021-11-14T14:16:45.033047Z",
          "shell.execute_reply": "2021-11-14T14:16:45.032370Z",
          "shell.execute_reply.started": "2021-11-14T13:29:00.997566Z"
        },
        "papermill": {
          "duration": 3.603171,
          "end_time": "2021-11-14T14:16:45.033206",
          "exception": false,
          "start_time": "2021-11-14T14:16:41.430035",
          "status": "completed"
        },
        "tags": [],
        "colab": {
          "base_uri": "https://localhost:8080/"
        },
        "id": "13efdab3",
        "outputId": "52d8240e-73ef-4439-f74f-dbd8ae5ca60a"
      },
      "outputs": [
        {
          "output_type": "stream",
          "name": "stdout",
          "text": [
            "accuracy: 0.817437, precision: 0.832153, recall: 0.965886, f1: 0.781988, roc_auc: 0.599448\n"
          ]
        }
      ],
      "source": [
        "evaluator = BinaryClassificationEvaluator(labelCol=\"label\", rawPredictionCol=\"prediction\", metricName='areaUnderROC')\n",
        "evaluatorMulti = MulticlassClassificationEvaluator(labelCol=\"label\", predictionCol=\"prediction\")\n",
        "\n",
        "acc = evaluatorMulti.evaluate(y_pred, {evaluatorMulti.metricName: \"accuracy\"})\n",
        "precision = evaluatorMulti.evaluate(y_pred, {evaluatorMulti.metricName: \"precisionByLabel\"})\n",
        "recall = evaluatorMulti.evaluate(y_pred, {evaluatorMulti.metricName: \"recallByLabel\"})\n",
        "f1 = evaluatorMulti.evaluate(y_pred, {evaluatorMulti.metricName: \"f1\"})\n",
        "roc_auc = evaluator.evaluate(y_pred)\n",
        "\n",
        "print(\"accuracy: %f, precision: %f, recall: %f, f1: %f, roc_auc: %f\" % (acc, precision, recall, f1, roc_auc))"
      ]
    },
    {
      "cell_type": "markdown",
      "id": "181cb7fb",
      "metadata": {
        "papermill": {
          "duration": 0.245422,
          "end_time": "2021-11-14T14:16:45.525453",
          "exception": false,
          "start_time": "2021-11-14T14:16:45.280031",
          "status": "completed"
        },
        "tags": [],
        "id": "181cb7fb"
      },
      "source": [
        "**Gradient Boosted Tree Classifier**"
      ]
    },
    {
      "cell_type": "code",
      "execution_count": 66,
      "id": "37cc41c7",
      "metadata": {
        "execution": {
          "iopub.execute_input": "2021-11-14T14:16:46.015210Z",
          "iopub.status.busy": "2021-11-14T14:16:46.014453Z",
          "iopub.status.idle": "2021-11-14T14:17:42.346106Z",
          "shell.execute_reply": "2021-11-14T14:17:42.347175Z",
          "shell.execute_reply.started": "2021-11-14T13:29:04.401665Z"
        },
        "papermill": {
          "duration": 56.582212,
          "end_time": "2021-11-14T14:17:42.347460",
          "exception": false,
          "start_time": "2021-11-14T14:16:45.765248",
          "status": "completed"
        },
        "tags": [],
        "colab": {
          "base_uri": "https://localhost:8080/"
        },
        "id": "37cc41c7",
        "outputId": "a74b4bb3-47ec-4c11-c22c-7c879c6ff439"
      },
      "outputs": [
        {
          "output_type": "stream",
          "name": "stdout",
          "text": [
            "+--------------------+-----+--------------------+--------------------+--------------------+----------+\n",
            "|            features|label|     scaled_features|       rawPrediction|         probability|prediction|\n",
            "+--------------------+-----+--------------------+--------------------+--------------------+----------+\n",
            "|(19,[0,1,2,3,4,5,...|    0|(19,[0,1,2,3,4,5,...|[1.75024081719644...|[0.97070147009728...|       0.0|\n",
            "|(19,[0,1,2,3,4,5,...|    0|(19,[0,1,2,3,4,5,...|[1.26360126567415...|[0.92602695213284...|       0.0|\n",
            "|(19,[0,1,2,3,4,5,...|    0|(19,[0,1,2,3,4,5,...|[1.21202822933281...|[0.91864343014702...|       0.0|\n",
            "|(19,[0,1,2,3,4,5,...|    0|(19,[0,1,2,3,4,5,...|[1.75728443667020...|[0.97109946729348...|       0.0|\n",
            "|(19,[0,1,2,3,4,5,...|    0|(19,[0,1,2,3,4,5,...|[1.14318764430859...|[0.90774234263874...|       0.0|\n",
            "+--------------------+-----+--------------------+--------------------+--------------------+----------+\n",
            "only showing top 5 rows\n",
            "\n"
          ]
        }
      ],
      "source": [
        "gbm = GBTClassifier(maxIter=100, featuresCol=\"features\", labelCol=\"label\")\n",
        "gbm_model = gbm.fit(train_df)\n",
        "y_pred = gbm_model.transform(test_df)\n",
        "y_pred.show(5)"
      ]
    },
    {
      "cell_type": "code",
      "execution_count": 67,
      "id": "06373418",
      "metadata": {
        "execution": {
          "iopub.execute_input": "2021-11-14T14:17:42.843320Z",
          "iopub.status.busy": "2021-11-14T14:17:42.841360Z",
          "iopub.status.idle": "2021-11-14T14:17:44.117641Z",
          "shell.execute_reply": "2021-11-14T14:17:44.116896Z",
          "shell.execute_reply.started": "2021-11-14T13:29:57.525991Z"
        },
        "papermill": {
          "duration": 1.526542,
          "end_time": "2021-11-14T14:17:44.117827",
          "exception": false,
          "start_time": "2021-11-14T14:17:42.591285",
          "status": "completed"
        },
        "tags": [],
        "colab": {
          "base_uri": "https://localhost:8080/"
        },
        "id": "06373418",
        "outputId": "6bf5f5ac-4877-4225-9393-8aeba848d28e"
      },
      "outputs": [
        {
          "output_type": "execute_result",
          "data": {
            "text/plain": [
              "0.8597181252048509"
            ]
          },
          "metadata": {},
          "execution_count": 67
        }
      ],
      "source": [
        "y_pred.filter(y_pred.label == y_pred.prediction).count() / y_pred.count()"
      ]
    },
    {
      "cell_type": "markdown",
      "id": "6ad9f619",
      "metadata": {
        "papermill": {
          "duration": 0.243861,
          "end_time": "2021-11-14T14:17:44.603024",
          "exception": false,
          "start_time": "2021-11-14T14:17:44.359163",
          "status": "completed"
        },
        "tags": [],
        "id": "6ad9f619"
      },
      "source": [
        "# Model Tuning"
      ]
    },
    {
      "cell_type": "code",
      "execution_count": 68,
      "id": "44cef436",
      "metadata": {
        "execution": {
          "iopub.execute_input": "2021-11-14T14:17:45.099972Z",
          "iopub.status.busy": "2021-11-14T14:17:45.099191Z",
          "iopub.status.idle": "2021-11-14T14:17:45.112874Z",
          "shell.execute_reply": "2021-11-14T14:17:45.113662Z",
          "shell.execute_reply.started": "2021-11-14T13:29:58.845201Z"
        },
        "papermill": {
          "duration": 0.26617,
          "end_time": "2021-11-14T14:17:45.113978",
          "exception": false,
          "start_time": "2021-11-14T14:17:44.847808",
          "status": "completed"
        },
        "tags": [],
        "id": "44cef436"
      },
      "outputs": [],
      "source": [
        "evaluator = BinaryClassificationEvaluator()\n",
        "\n",
        "gbm_params = (ParamGridBuilder()\n",
        "              .addGrid(gbm.maxDepth, [2, 4, 6])\n",
        "              .addGrid(gbm.maxBins, [20, 30])\n",
        "              .addGrid(gbm.maxIter, [10, 20])\n",
        "              .build())"
      ]
    },
    {
      "cell_type": "code",
      "execution_count": 69,
      "id": "32734558",
      "metadata": {
        "execution": {
          "iopub.execute_input": "2021-11-14T14:17:45.629579Z",
          "iopub.status.busy": "2021-11-14T14:17:45.628437Z",
          "iopub.status.idle": "2021-11-14T14:17:45.631486Z",
          "shell.execute_reply": "2021-11-14T14:17:45.630793Z",
          "shell.execute_reply.started": "2021-11-14T13:29:58.859950Z"
        },
        "papermill": {
          "duration": 0.250353,
          "end_time": "2021-11-14T14:17:45.631651",
          "exception": false,
          "start_time": "2021-11-14T14:17:45.381298",
          "status": "completed"
        },
        "tags": [],
        "id": "32734558"
      },
      "outputs": [],
      "source": [
        "cv = CrossValidator(estimator=gbm,\n",
        "                    estimatorParamMaps=gbm_params,\n",
        "                    evaluator=evaluator,\n",
        "                    numFolds=5)"
      ]
    },
    {
      "cell_type": "code",
      "execution_count": 70,
      "id": "b3d04028",
      "metadata": {
        "execution": {
          "iopub.execute_input": "2021-11-14T14:17:46.125256Z",
          "iopub.status.busy": "2021-11-14T14:17:46.124447Z",
          "iopub.status.idle": "2021-11-14T14:22:27.204272Z",
          "shell.execute_reply": "2021-11-14T14:22:27.205171Z",
          "shell.execute_reply.started": "2021-11-14T13:29:58.872065Z"
        },
        "papermill": {
          "duration": 281.329916,
          "end_time": "2021-11-14T14:22:27.205433",
          "exception": false,
          "start_time": "2021-11-14T14:17:45.875517",
          "status": "completed"
        },
        "tags": [],
        "colab": {
          "base_uri": "https://localhost:8080/"
        },
        "id": "b3d04028",
        "outputId": "f87989be-1184-45ae-95e4-07d5a7464a2c"
      },
      "outputs": [
        {
          "output_type": "execute_result",
          "data": {
            "text/plain": [
              "0.8646345460504753"
            ]
          },
          "metadata": {},
          "execution_count": 70
        }
      ],
      "source": [
        "cv_model = cv.fit(train_df)\n",
        "y_pred = cv_model.transform(test_df)\n",
        "ac = y_pred.select(\"label\", \"prediction\")\n",
        "ac.filter(ac.label == ac.prediction).count() / ac.count()"
      ]
    },
    {
      "cell_type": "code",
      "execution_count": null,
      "id": "c354c2f1",
      "metadata": {
        "papermill": {
          "duration": 0.240637,
          "end_time": "2021-11-14T14:22:28.654154",
          "exception": false,
          "start_time": "2021-11-14T14:22:28.413517",
          "status": "completed"
        },
        "tags": [],
        "id": "c354c2f1"
      },
      "outputs": [],
      "source": [
        ""
      ]
    }
  ],
  "metadata": {
    "kernelspec": {
      "display_name": "Python 3",
      "language": "python",
      "name": "python3"
    },
    "language_info": {
      "codemirror_mode": {
        "name": "ipython",
        "version": 3
      },
      "file_extension": ".py",
      "mimetype": "text/x-python",
      "name": "python",
      "nbconvert_exporter": "python",
      "pygments_lexer": "ipython3",
      "version": "3.7.10"
    },
    "papermill": {
      "default_parameters": {},
      "duration": 601.873075,
      "end_time": "2021-11-14T14:22:29.910898",
      "environment_variables": {},
      "exception": null,
      "input_path": "__notebook__.ipynb",
      "output_path": "__notebook__.ipynb",
      "parameters": {},
      "start_time": "2021-11-14T14:12:28.037823",
      "version": "2.3.3"
    },
    "colab": {
      "name": "churn-prediction-with-spark.ipynb",
      "provenance": [],
      "collapsed_sections": [
        "eb41e317",
        "c001e02a",
        "4dedc770",
        "66e877bf",
        "75cce408",
        "bfba2ceb",
        "c2b58e5a",
        "99a16639",
        "a65f4299"
      ]
    }
  },
  "nbformat": 4,
  "nbformat_minor": 5
}